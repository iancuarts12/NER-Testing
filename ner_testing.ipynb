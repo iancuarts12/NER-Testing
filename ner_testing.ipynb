{
 "cells": [
  {
   "cell_type": "markdown",
   "id": "90009b39",
   "metadata": {},
   "source": [
    "Resume Parsing"
   ]
  },
  {
   "cell_type": "code",
   "execution_count": 1,
   "id": "069c79cb",
   "metadata": {},
   "outputs": [
    {
     "name": "stdout",
     "output_type": "stream",
     "text": [
      "Requirement already satisfied: transformers in c:\\users\\adrian\\miniconda3\\envs\\myenv\\lib\\site-packages (4.56.1)\n",
      "Requirement already satisfied: filelock in c:\\users\\adrian\\miniconda3\\envs\\myenv\\lib\\site-packages (from transformers) (3.19.1)\n",
      "Requirement already satisfied: huggingface-hub<1.0,>=0.34.0 in c:\\users\\adrian\\miniconda3\\envs\\myenv\\lib\\site-packages (from transformers) (0.34.4)\n",
      "Requirement already satisfied: numpy>=1.17 in c:\\users\\adrian\\miniconda3\\envs\\myenv\\lib\\site-packages (from transformers) (2.3.2)\n",
      "Requirement already satisfied: packaging>=20.0 in c:\\users\\adrian\\miniconda3\\envs\\myenv\\lib\\site-packages (from transformers) (23.2)\n",
      "Requirement already satisfied: pyyaml>=5.1 in c:\\users\\adrian\\miniconda3\\envs\\myenv\\lib\\site-packages (from transformers) (6.0.1)\n",
      "Requirement already satisfied: regex!=2019.12.17 in c:\\users\\adrian\\miniconda3\\envs\\myenv\\lib\\site-packages (from transformers) (2025.9.1)\n",
      "Requirement already satisfied: requests in c:\\users\\adrian\\miniconda3\\envs\\myenv\\lib\\site-packages (from transformers) (2.32.2)\n",
      "Requirement already satisfied: tokenizers<=0.23.0,>=0.22.0 in c:\\users\\adrian\\miniconda3\\envs\\myenv\\lib\\site-packages (from transformers) (0.22.0)\n",
      "Requirement already satisfied: safetensors>=0.4.3 in c:\\users\\adrian\\miniconda3\\envs\\myenv\\lib\\site-packages (from transformers) (0.6.2)\n",
      "Requirement already satisfied: tqdm>=4.27 in c:\\users\\adrian\\miniconda3\\envs\\myenv\\lib\\site-packages (from transformers) (4.67.1)\n",
      "Requirement already satisfied: fsspec>=2023.5.0 in c:\\users\\adrian\\miniconda3\\envs\\myenv\\lib\\site-packages (from huggingface-hub<1.0,>=0.34.0->transformers) (2025.3.0)\n",
      "Requirement already satisfied: typing-extensions>=3.7.4.3 in c:\\users\\adrian\\miniconda3\\envs\\myenv\\lib\\site-packages (from huggingface-hub<1.0,>=0.34.0->transformers) (4.15.0)\n",
      "Requirement already satisfied: colorama in c:\\users\\adrian\\miniconda3\\envs\\myenv\\lib\\site-packages (from tqdm>=4.27->transformers) (0.4.6)\n",
      "Requirement already satisfied: charset-normalizer<4,>=2 in c:\\users\\adrian\\miniconda3\\envs\\myenv\\lib\\site-packages (from requests->transformers) (2.0.4)\n",
      "Requirement already satisfied: idna<4,>=2.5 in c:\\users\\adrian\\miniconda3\\envs\\myenv\\lib\\site-packages (from requests->transformers) (3.7)\n",
      "Requirement already satisfied: urllib3<3,>=1.21.1 in c:\\users\\adrian\\miniconda3\\envs\\myenv\\lib\\site-packages (from requests->transformers) (2.2.2)\n",
      "Requirement already satisfied: certifi>=2017.4.17 in c:\\users\\adrian\\miniconda3\\envs\\myenv\\lib\\site-packages (from requests->transformers) (2024.6.2)\n",
      "Note: you may need to restart the kernel to use updated packages.\n"
     ]
    }
   ],
   "source": [
    "pip install transformers"
   ]
  },
  {
   "cell_type": "code",
   "execution_count": 2,
   "id": "9532d7bf",
   "metadata": {},
   "outputs": [
    {
     "name": "stdout",
     "output_type": "stream",
     "text": [
      "Requirement already satisfied: evaluate in c:\\users\\adrian\\miniconda3\\envs\\myenv\\lib\\site-packages (0.4.5)\n",
      "Requirement already satisfied: datasets>=2.0.0 in c:\\users\\adrian\\miniconda3\\envs\\myenv\\lib\\site-packages (from evaluate) (4.0.0)\n",
      "Requirement already satisfied: numpy>=1.17 in c:\\users\\adrian\\miniconda3\\envs\\myenv\\lib\\site-packages (from evaluate) (2.3.2)\n",
      "Requirement already satisfied: dill in c:\\users\\adrian\\miniconda3\\envs\\myenv\\lib\\site-packages (from evaluate) (0.3.8)\n",
      "Requirement already satisfied: pandas in c:\\users\\adrian\\miniconda3\\envs\\myenv\\lib\\site-packages (from evaluate) (2.3.2)\n",
      "Requirement already satisfied: requests>=2.19.0 in c:\\users\\adrian\\miniconda3\\envs\\myenv\\lib\\site-packages (from evaluate) (2.32.2)\n",
      "Requirement already satisfied: tqdm>=4.62.1 in c:\\users\\adrian\\miniconda3\\envs\\myenv\\lib\\site-packages (from evaluate) (4.67.1)\n",
      "Requirement already satisfied: xxhash in c:\\users\\adrian\\miniconda3\\envs\\myenv\\lib\\site-packages (from evaluate) (3.5.0)\n",
      "Requirement already satisfied: multiprocess in c:\\users\\adrian\\miniconda3\\envs\\myenv\\lib\\site-packages (from evaluate) (0.70.16)\n",
      "Requirement already satisfied: fsspec>=2021.05.0 in c:\\users\\adrian\\miniconda3\\envs\\myenv\\lib\\site-packages (from fsspec[http]>=2021.05.0->evaluate) (2025.3.0)\n",
      "Requirement already satisfied: huggingface-hub>=0.7.0 in c:\\users\\adrian\\miniconda3\\envs\\myenv\\lib\\site-packages (from evaluate) (0.34.4)\n",
      "Requirement already satisfied: packaging in c:\\users\\adrian\\miniconda3\\envs\\myenv\\lib\\site-packages (from evaluate) (23.2)\n",
      "Requirement already satisfied: filelock in c:\\users\\adrian\\miniconda3\\envs\\myenv\\lib\\site-packages (from datasets>=2.0.0->evaluate) (3.19.1)\n",
      "Requirement already satisfied: pyarrow>=15.0.0 in c:\\users\\adrian\\miniconda3\\envs\\myenv\\lib\\site-packages (from datasets>=2.0.0->evaluate) (21.0.0)\n",
      "Requirement already satisfied: pyyaml>=5.1 in c:\\users\\adrian\\miniconda3\\envs\\myenv\\lib\\site-packages (from datasets>=2.0.0->evaluate) (6.0.1)\n",
      "Requirement already satisfied: aiohttp!=4.0.0a0,!=4.0.0a1 in c:\\users\\adrian\\miniconda3\\envs\\myenv\\lib\\site-packages (from fsspec[http]>=2021.05.0->evaluate) (3.12.15)\n",
      "Requirement already satisfied: typing-extensions>=3.7.4.3 in c:\\users\\adrian\\miniconda3\\envs\\myenv\\lib\\site-packages (from huggingface-hub>=0.7.0->evaluate) (4.15.0)\n",
      "Requirement already satisfied: charset-normalizer<4,>=2 in c:\\users\\adrian\\miniconda3\\envs\\myenv\\lib\\site-packages (from requests>=2.19.0->evaluate) (2.0.4)\n",
      "Requirement already satisfied: idna<4,>=2.5 in c:\\users\\adrian\\miniconda3\\envs\\myenv\\lib\\site-packages (from requests>=2.19.0->evaluate) (3.7)\n",
      "Requirement already satisfied: urllib3<3,>=1.21.1 in c:\\users\\adrian\\miniconda3\\envs\\myenv\\lib\\site-packages (from requests>=2.19.0->evaluate) (2.2.2)\n",
      "Requirement already satisfied: certifi>=2017.4.17 in c:\\users\\adrian\\miniconda3\\envs\\myenv\\lib\\site-packages (from requests>=2.19.0->evaluate) (2024.6.2)\n",
      "Requirement already satisfied: colorama in c:\\users\\adrian\\miniconda3\\envs\\myenv\\lib\\site-packages (from tqdm>=4.62.1->evaluate) (0.4.6)\n",
      "Requirement already satisfied: python-dateutil>=2.8.2 in c:\\users\\adrian\\miniconda3\\envs\\myenv\\lib\\site-packages (from pandas->evaluate) (2.9.0.post0)\n",
      "Requirement already satisfied: pytz>=2020.1 in c:\\users\\adrian\\miniconda3\\envs\\myenv\\lib\\site-packages (from pandas->evaluate) (2024.1)\n",
      "Requirement already satisfied: tzdata>=2022.7 in c:\\users\\adrian\\miniconda3\\envs\\myenv\\lib\\site-packages (from pandas->evaluate) (2023.3)\n",
      "Requirement already satisfied: aiohappyeyeballs>=2.5.0 in c:\\users\\adrian\\miniconda3\\envs\\myenv\\lib\\site-packages (from aiohttp!=4.0.0a0,!=4.0.0a1->fsspec[http]>=2021.05.0->evaluate) (2.6.1)\n",
      "Requirement already satisfied: aiosignal>=1.4.0 in c:\\users\\adrian\\miniconda3\\envs\\myenv\\lib\\site-packages (from aiohttp!=4.0.0a0,!=4.0.0a1->fsspec[http]>=2021.05.0->evaluate) (1.4.0)\n",
      "Requirement already satisfied: attrs>=17.3.0 in c:\\users\\adrian\\miniconda3\\envs\\myenv\\lib\\site-packages (from aiohttp!=4.0.0a0,!=4.0.0a1->fsspec[http]>=2021.05.0->evaluate) (23.1.0)\n",
      "Requirement already satisfied: frozenlist>=1.1.1 in c:\\users\\adrian\\miniconda3\\envs\\myenv\\lib\\site-packages (from aiohttp!=4.0.0a0,!=4.0.0a1->fsspec[http]>=2021.05.0->evaluate) (1.7.0)\n",
      "Requirement already satisfied: multidict<7.0,>=4.5 in c:\\users\\adrian\\miniconda3\\envs\\myenv\\lib\\site-packages (from aiohttp!=4.0.0a0,!=4.0.0a1->fsspec[http]>=2021.05.0->evaluate) (6.6.4)\n",
      "Requirement already satisfied: propcache>=0.2.0 in c:\\users\\adrian\\miniconda3\\envs\\myenv\\lib\\site-packages (from aiohttp!=4.0.0a0,!=4.0.0a1->fsspec[http]>=2021.05.0->evaluate) (0.3.2)\n",
      "Requirement already satisfied: yarl<2.0,>=1.17.0 in c:\\users\\adrian\\miniconda3\\envs\\myenv\\lib\\site-packages (from aiohttp!=4.0.0a0,!=4.0.0a1->fsspec[http]>=2021.05.0->evaluate) (1.20.1)\n",
      "Requirement already satisfied: six>=1.5 in c:\\users\\adrian\\miniconda3\\envs\\myenv\\lib\\site-packages (from python-dateutil>=2.8.2->pandas->evaluate) (1.16.0)\n",
      "Note: you may need to restart the kernel to use updated packages.\n"
     ]
    }
   ],
   "source": [
    "pip install evaluate"
   ]
  },
  {
   "cell_type": "code",
   "execution_count": 3,
   "id": "8b5acb23",
   "metadata": {},
   "outputs": [
    {
     "name": "stdout",
     "output_type": "stream",
     "text": [
      "Requirement already satisfied: datasets in c:\\users\\adrian\\miniconda3\\envs\\myenv\\lib\\site-packages (4.0.0)\n",
      "Requirement already satisfied: filelock in c:\\users\\adrian\\miniconda3\\envs\\myenv\\lib\\site-packages (from datasets) (3.19.1)\n",
      "Requirement already satisfied: numpy>=1.17 in c:\\users\\adrian\\miniconda3\\envs\\myenv\\lib\\site-packages (from datasets) (2.3.2)\n",
      "Requirement already satisfied: pyarrow>=15.0.0 in c:\\users\\adrian\\miniconda3\\envs\\myenv\\lib\\site-packages (from datasets) (21.0.0)\n",
      "Requirement already satisfied: dill<0.3.9,>=0.3.0 in c:\\users\\adrian\\miniconda3\\envs\\myenv\\lib\\site-packages (from datasets) (0.3.8)\n",
      "Requirement already satisfied: pandas in c:\\users\\adrian\\miniconda3\\envs\\myenv\\lib\\site-packages (from datasets) (2.3.2)\n",
      "Requirement already satisfied: requests>=2.32.2 in c:\\users\\adrian\\miniconda3\\envs\\myenv\\lib\\site-packages (from datasets) (2.32.2)\n",
      "Requirement already satisfied: tqdm>=4.66.3 in c:\\users\\adrian\\miniconda3\\envs\\myenv\\lib\\site-packages (from datasets) (4.67.1)\n",
      "Requirement already satisfied: xxhash in c:\\users\\adrian\\miniconda3\\envs\\myenv\\lib\\site-packages (from datasets) (3.5.0)\n",
      "Requirement already satisfied: multiprocess<0.70.17 in c:\\users\\adrian\\miniconda3\\envs\\myenv\\lib\\site-packages (from datasets) (0.70.16)\n",
      "Requirement already satisfied: fsspec<=2025.3.0,>=2023.1.0 in c:\\users\\adrian\\miniconda3\\envs\\myenv\\lib\\site-packages (from fsspec[http]<=2025.3.0,>=2023.1.0->datasets) (2025.3.0)\n",
      "Requirement already satisfied: huggingface-hub>=0.24.0 in c:\\users\\adrian\\miniconda3\\envs\\myenv\\lib\\site-packages (from datasets) (0.34.4)\n",
      "Requirement already satisfied: packaging in c:\\users\\adrian\\miniconda3\\envs\\myenv\\lib\\site-packages (from datasets) (23.2)\n",
      "Requirement already satisfied: pyyaml>=5.1 in c:\\users\\adrian\\miniconda3\\envs\\myenv\\lib\\site-packages (from datasets) (6.0.1)\n",
      "Requirement already satisfied: aiohttp!=4.0.0a0,!=4.0.0a1 in c:\\users\\adrian\\miniconda3\\envs\\myenv\\lib\\site-packages (from fsspec[http]<=2025.3.0,>=2023.1.0->datasets) (3.12.15)\n",
      "Requirement already satisfied: typing-extensions>=3.7.4.3 in c:\\users\\adrian\\miniconda3\\envs\\myenv\\lib\\site-packages (from huggingface-hub>=0.24.0->datasets) (4.15.0)\n",
      "Requirement already satisfied: charset-normalizer<4,>=2 in c:\\users\\adrian\\miniconda3\\envs\\myenv\\lib\\site-packages (from requests>=2.32.2->datasets) (2.0.4)\n",
      "Requirement already satisfied: idna<4,>=2.5 in c:\\users\\adrian\\miniconda3\\envs\\myenv\\lib\\site-packages (from requests>=2.32.2->datasets) (3.7)\n",
      "Requirement already satisfied: urllib3<3,>=1.21.1 in c:\\users\\adrian\\miniconda3\\envs\\myenv\\lib\\site-packages (from requests>=2.32.2->datasets) (2.2.2)\n",
      "Requirement already satisfied: certifi>=2017.4.17 in c:\\users\\adrian\\miniconda3\\envs\\myenv\\lib\\site-packages (from requests>=2.32.2->datasets) (2024.6.2)\n",
      "Requirement already satisfied: colorama in c:\\users\\adrian\\miniconda3\\envs\\myenv\\lib\\site-packages (from tqdm>=4.66.3->datasets) (0.4.6)\n",
      "Requirement already satisfied: python-dateutil>=2.8.2 in c:\\users\\adrian\\miniconda3\\envs\\myenv\\lib\\site-packages (from pandas->datasets) (2.9.0.post0)\n",
      "Requirement already satisfied: pytz>=2020.1 in c:\\users\\adrian\\miniconda3\\envs\\myenv\\lib\\site-packages (from pandas->datasets) (2024.1)\n",
      "Requirement already satisfied: tzdata>=2022.7 in c:\\users\\adrian\\miniconda3\\envs\\myenv\\lib\\site-packages (from pandas->datasets) (2023.3)\n",
      "Requirement already satisfied: aiohappyeyeballs>=2.5.0 in c:\\users\\adrian\\miniconda3\\envs\\myenv\\lib\\site-packages (from aiohttp!=4.0.0a0,!=4.0.0a1->fsspec[http]<=2025.3.0,>=2023.1.0->datasets) (2.6.1)\n",
      "Requirement already satisfied: aiosignal>=1.4.0 in c:\\users\\adrian\\miniconda3\\envs\\myenv\\lib\\site-packages (from aiohttp!=4.0.0a0,!=4.0.0a1->fsspec[http]<=2025.3.0,>=2023.1.0->datasets) (1.4.0)\n",
      "Requirement already satisfied: attrs>=17.3.0 in c:\\users\\adrian\\miniconda3\\envs\\myenv\\lib\\site-packages (from aiohttp!=4.0.0a0,!=4.0.0a1->fsspec[http]<=2025.3.0,>=2023.1.0->datasets) (23.1.0)\n",
      "Requirement already satisfied: frozenlist>=1.1.1 in c:\\users\\adrian\\miniconda3\\envs\\myenv\\lib\\site-packages (from aiohttp!=4.0.0a0,!=4.0.0a1->fsspec[http]<=2025.3.0,>=2023.1.0->datasets) (1.7.0)\n",
      "Requirement already satisfied: multidict<7.0,>=4.5 in c:\\users\\adrian\\miniconda3\\envs\\myenv\\lib\\site-packages (from aiohttp!=4.0.0a0,!=4.0.0a1->fsspec[http]<=2025.3.0,>=2023.1.0->datasets) (6.6.4)\n",
      "Requirement already satisfied: propcache>=0.2.0 in c:\\users\\adrian\\miniconda3\\envs\\myenv\\lib\\site-packages (from aiohttp!=4.0.0a0,!=4.0.0a1->fsspec[http]<=2025.3.0,>=2023.1.0->datasets) (0.3.2)\n",
      "Requirement already satisfied: yarl<2.0,>=1.17.0 in c:\\users\\adrian\\miniconda3\\envs\\myenv\\lib\\site-packages (from aiohttp!=4.0.0a0,!=4.0.0a1->fsspec[http]<=2025.3.0,>=2023.1.0->datasets) (1.20.1)\n",
      "Requirement already satisfied: six>=1.5 in c:\\users\\adrian\\miniconda3\\envs\\myenv\\lib\\site-packages (from python-dateutil>=2.8.2->pandas->datasets) (1.16.0)\n",
      "Note: you may need to restart the kernel to use updated packages.\n"
     ]
    }
   ],
   "source": [
    "pip install datasets"
   ]
  },
  {
   "cell_type": "code",
   "execution_count": 4,
   "id": "c664bd30",
   "metadata": {},
   "outputs": [
    {
     "name": "stdout",
     "output_type": "stream",
     "text": [
      "Requirement already satisfied: numpy in c:\\users\\adrian\\miniconda3\\envs\\myenv\\lib\\site-packages (2.3.2)\n",
      "Note: you may need to restart the kernel to use updated packages.\n"
     ]
    }
   ],
   "source": [
    "pip install --upgrade numpy"
   ]
  },
  {
   "cell_type": "code",
   "execution_count": 5,
   "id": "c2cc7aad",
   "metadata": {},
   "outputs": [
    {
     "name": "stdout",
     "output_type": "stream",
     "text": [
      "Requirement already satisfied: pandas in c:\\users\\adrian\\miniconda3\\envs\\myenv\\lib\\site-packages (2.3.2)\n",
      "Requirement already satisfied: numpy>=1.26.0 in c:\\users\\adrian\\miniconda3\\envs\\myenv\\lib\\site-packages (from pandas) (2.3.2)\n",
      "Requirement already satisfied: python-dateutil>=2.8.2 in c:\\users\\adrian\\miniconda3\\envs\\myenv\\lib\\site-packages (from pandas) (2.9.0.post0)\n",
      "Requirement already satisfied: pytz>=2020.1 in c:\\users\\adrian\\miniconda3\\envs\\myenv\\lib\\site-packages (from pandas) (2024.1)\n",
      "Requirement already satisfied: tzdata>=2022.7 in c:\\users\\adrian\\miniconda3\\envs\\myenv\\lib\\site-packages (from pandas) (2023.3)\n",
      "Requirement already satisfied: six>=1.5 in c:\\users\\adrian\\miniconda3\\envs\\myenv\\lib\\site-packages (from python-dateutil>=2.8.2->pandas) (1.16.0)\n",
      "Note: you may need to restart the kernel to use updated packages.\n"
     ]
    }
   ],
   "source": [
    "pip install --upgrade pandas"
   ]
  },
  {
   "cell_type": "code",
   "execution_count": 6,
   "id": "93cffe7d",
   "metadata": {},
   "outputs": [
    {
     "name": "stdout",
     "output_type": "stream",
     "text": [
      "Requirement already satisfied: evaluate in c:\\users\\adrian\\miniconda3\\envs\\myenv\\lib\\site-packages (0.4.5)\n",
      "Requirement already satisfied: datasets in c:\\users\\adrian\\miniconda3\\envs\\myenv\\lib\\site-packages (4.0.0)\n",
      "Requirement already satisfied: numpy>=1.17 in c:\\users\\adrian\\miniconda3\\envs\\myenv\\lib\\site-packages (from evaluate) (2.3.2)\n",
      "Requirement already satisfied: dill in c:\\users\\adrian\\miniconda3\\envs\\myenv\\lib\\site-packages (from evaluate) (0.3.8)\n",
      "Requirement already satisfied: pandas in c:\\users\\adrian\\miniconda3\\envs\\myenv\\lib\\site-packages (from evaluate) (2.3.2)\n",
      "Requirement already satisfied: requests>=2.19.0 in c:\\users\\adrian\\miniconda3\\envs\\myenv\\lib\\site-packages (from evaluate) (2.32.2)\n",
      "Requirement already satisfied: tqdm>=4.62.1 in c:\\users\\adrian\\miniconda3\\envs\\myenv\\lib\\site-packages (from evaluate) (4.67.1)\n",
      "Requirement already satisfied: xxhash in c:\\users\\adrian\\miniconda3\\envs\\myenv\\lib\\site-packages (from evaluate) (3.5.0)\n",
      "Requirement already satisfied: multiprocess in c:\\users\\adrian\\miniconda3\\envs\\myenv\\lib\\site-packages (from evaluate) (0.70.16)\n",
      "Requirement already satisfied: fsspec>=2021.05.0 in c:\\users\\adrian\\miniconda3\\envs\\myenv\\lib\\site-packages (from fsspec[http]>=2021.05.0->evaluate) (2025.3.0)\n",
      "Requirement already satisfied: huggingface-hub>=0.7.0 in c:\\users\\adrian\\miniconda3\\envs\\myenv\\lib\\site-packages (from evaluate) (0.34.4)\n",
      "Requirement already satisfied: packaging in c:\\users\\adrian\\miniconda3\\envs\\myenv\\lib\\site-packages (from evaluate) (23.2)\n",
      "Requirement already satisfied: filelock in c:\\users\\adrian\\miniconda3\\envs\\myenv\\lib\\site-packages (from datasets) (3.19.1)\n",
      "Requirement already satisfied: pyarrow>=15.0.0 in c:\\users\\adrian\\miniconda3\\envs\\myenv\\lib\\site-packages (from datasets) (21.0.0)\n",
      "Requirement already satisfied: pyyaml>=5.1 in c:\\users\\adrian\\miniconda3\\envs\\myenv\\lib\\site-packages (from datasets) (6.0.1)\n",
      "Requirement already satisfied: aiohttp!=4.0.0a0,!=4.0.0a1 in c:\\users\\adrian\\miniconda3\\envs\\myenv\\lib\\site-packages (from fsspec[http]>=2021.05.0->evaluate) (3.12.15)\n",
      "Requirement already satisfied: typing-extensions>=3.7.4.3 in c:\\users\\adrian\\miniconda3\\envs\\myenv\\lib\\site-packages (from huggingface-hub>=0.7.0->evaluate) (4.15.0)\n",
      "Requirement already satisfied: charset-normalizer<4,>=2 in c:\\users\\adrian\\miniconda3\\envs\\myenv\\lib\\site-packages (from requests>=2.19.0->evaluate) (2.0.4)\n",
      "Requirement already satisfied: idna<4,>=2.5 in c:\\users\\adrian\\miniconda3\\envs\\myenv\\lib\\site-packages (from requests>=2.19.0->evaluate) (3.7)\n",
      "Requirement already satisfied: urllib3<3,>=1.21.1 in c:\\users\\adrian\\miniconda3\\envs\\myenv\\lib\\site-packages (from requests>=2.19.0->evaluate) (2.2.2)\n",
      "Requirement already satisfied: certifi>=2017.4.17 in c:\\users\\adrian\\miniconda3\\envs\\myenv\\lib\\site-packages (from requests>=2.19.0->evaluate) (2024.6.2)\n",
      "Requirement already satisfied: colorama in c:\\users\\adrian\\miniconda3\\envs\\myenv\\lib\\site-packages (from tqdm>=4.62.1->evaluate) (0.4.6)\n",
      "Requirement already satisfied: python-dateutil>=2.8.2 in c:\\users\\adrian\\miniconda3\\envs\\myenv\\lib\\site-packages (from pandas->evaluate) (2.9.0.post0)\n",
      "Requirement already satisfied: pytz>=2020.1 in c:\\users\\adrian\\miniconda3\\envs\\myenv\\lib\\site-packages (from pandas->evaluate) (2024.1)\n",
      "Requirement already satisfied: tzdata>=2022.7 in c:\\users\\adrian\\miniconda3\\envs\\myenv\\lib\\site-packages (from pandas->evaluate) (2023.3)\n",
      "Requirement already satisfied: aiohappyeyeballs>=2.5.0 in c:\\users\\adrian\\miniconda3\\envs\\myenv\\lib\\site-packages (from aiohttp!=4.0.0a0,!=4.0.0a1->fsspec[http]>=2021.05.0->evaluate) (2.6.1)\n",
      "Requirement already satisfied: aiosignal>=1.4.0 in c:\\users\\adrian\\miniconda3\\envs\\myenv\\lib\\site-packages (from aiohttp!=4.0.0a0,!=4.0.0a1->fsspec[http]>=2021.05.0->evaluate) (1.4.0)\n",
      "Requirement already satisfied: attrs>=17.3.0 in c:\\users\\adrian\\miniconda3\\envs\\myenv\\lib\\site-packages (from aiohttp!=4.0.0a0,!=4.0.0a1->fsspec[http]>=2021.05.0->evaluate) (23.1.0)\n",
      "Requirement already satisfied: frozenlist>=1.1.1 in c:\\users\\adrian\\miniconda3\\envs\\myenv\\lib\\site-packages (from aiohttp!=4.0.0a0,!=4.0.0a1->fsspec[http]>=2021.05.0->evaluate) (1.7.0)\n",
      "Requirement already satisfied: multidict<7.0,>=4.5 in c:\\users\\adrian\\miniconda3\\envs\\myenv\\lib\\site-packages (from aiohttp!=4.0.0a0,!=4.0.0a1->fsspec[http]>=2021.05.0->evaluate) (6.6.4)\n",
      "Requirement already satisfied: propcache>=0.2.0 in c:\\users\\adrian\\miniconda3\\envs\\myenv\\lib\\site-packages (from aiohttp!=4.0.0a0,!=4.0.0a1->fsspec[http]>=2021.05.0->evaluate) (0.3.2)\n",
      "Requirement already satisfied: yarl<2.0,>=1.17.0 in c:\\users\\adrian\\miniconda3\\envs\\myenv\\lib\\site-packages (from aiohttp!=4.0.0a0,!=4.0.0a1->fsspec[http]>=2021.05.0->evaluate) (1.20.1)\n",
      "Requirement already satisfied: six>=1.5 in c:\\users\\adrian\\miniconda3\\envs\\myenv\\lib\\site-packages (from python-dateutil>=2.8.2->pandas->evaluate) (1.16.0)\n",
      "Note: you may need to restart the kernel to use updated packages.\n"
     ]
    }
   ],
   "source": [
    "pip install --upgrade evaluate datasets"
   ]
  },
  {
   "cell_type": "code",
   "execution_count": 7,
   "id": "773d8fea",
   "metadata": {},
   "outputs": [
    {
     "name": "stderr",
     "output_type": "stream",
     "text": [
      "None of PyTorch, TensorFlow >= 2.0, or Flax have been found. Models won't be available and only tokenizers, configuration and file/data utilities can be used.\n"
     ]
    },
    {
     "data": {
      "text/plain": [
       "'4.56.1'"
      ]
     },
     "execution_count": 7,
     "metadata": {},
     "output_type": "execute_result"
    }
   ],
   "source": [
    "import transformers \n",
    "transformers.__version__"
   ]
  },
  {
   "cell_type": "code",
   "execution_count": 8,
   "id": "7793a78f",
   "metadata": {},
   "outputs": [
    {
     "name": "stderr",
     "output_type": "stream",
     "text": [
      "\n",
      "A module that was compiled using NumPy 1.x cannot be run in\n",
      "NumPy 2.3.2 as it may crash. To support both 1.x and 2.x\n",
      "versions of NumPy, modules must be compiled with NumPy 2.0.\n",
      "Some module may need to rebuild instead e.g. with 'pybind11>=2.12'.\n",
      "\n",
      "If you are a user of the module, the easiest solution will be to\n",
      "downgrade to 'numpy<2' or try to upgrade the affected module.\n",
      "We expect that some modules will need time to support NumPy 2.\n",
      "\n",
      "Traceback (most recent call last):  File \"<frozen runpy>\", line 198, in _run_module_as_main\n",
      "  File \"<frozen runpy>\", line 88, in _run_code\n",
      "  File \"c:\\Users\\Adrian\\miniconda3\\envs\\myenv\\Lib\\site-packages\\ipykernel_launcher.py\", line 17, in <module>\n",
      "    app.launch_new_instance()\n",
      "  File \"c:\\Users\\Adrian\\miniconda3\\envs\\myenv\\Lib\\site-packages\\traitlets\\config\\application.py\", line 1075, in launch_instance\n",
      "    app.start()\n",
      "  File \"c:\\Users\\Adrian\\miniconda3\\envs\\myenv\\Lib\\site-packages\\ipykernel\\kernelapp.py\", line 701, in start\n",
      "    self.io_loop.start()\n",
      "  File \"c:\\Users\\Adrian\\miniconda3\\envs\\myenv\\Lib\\site-packages\\tornado\\platform\\asyncio.py\", line 205, in start\n",
      "    self.asyncio_loop.run_forever()\n",
      "  File \"c:\\Users\\Adrian\\miniconda3\\envs\\myenv\\Lib\\asyncio\\windows_events.py\", line 322, in run_forever\n",
      "    super().run_forever()\n",
      "  File \"c:\\Users\\Adrian\\miniconda3\\envs\\myenv\\Lib\\asyncio\\base_events.py\", line 641, in run_forever\n",
      "    self._run_once()\n",
      "  File \"c:\\Users\\Adrian\\miniconda3\\envs\\myenv\\Lib\\asyncio\\base_events.py\", line 1987, in _run_once\n",
      "    handle._run()\n",
      "  File \"c:\\Users\\Adrian\\miniconda3\\envs\\myenv\\Lib\\asyncio\\events.py\", line 88, in _run\n",
      "    self._context.run(self._callback, *self._args)\n",
      "  File \"c:\\Users\\Adrian\\miniconda3\\envs\\myenv\\Lib\\site-packages\\ipykernel\\kernelbase.py\", line 534, in dispatch_queue\n",
      "    await self.process_one()\n",
      "  File \"c:\\Users\\Adrian\\miniconda3\\envs\\myenv\\Lib\\site-packages\\ipykernel\\kernelbase.py\", line 523, in process_one\n",
      "    await dispatch(*args)\n",
      "  File \"c:\\Users\\Adrian\\miniconda3\\envs\\myenv\\Lib\\site-packages\\ipykernel\\kernelbase.py\", line 429, in dispatch_shell\n",
      "    await result\n",
      "  File \"c:\\Users\\Adrian\\miniconda3\\envs\\myenv\\Lib\\site-packages\\ipykernel\\kernelbase.py\", line 767, in execute_request\n",
      "    reply_content = await reply_content\n",
      "  File \"c:\\Users\\Adrian\\miniconda3\\envs\\myenv\\Lib\\site-packages\\ipykernel\\ipkernel.py\", line 429, in do_execute\n",
      "    res = shell.run_cell(\n",
      "  File \"c:\\Users\\Adrian\\miniconda3\\envs\\myenv\\Lib\\site-packages\\ipykernel\\zmqshell.py\", line 549, in run_cell\n",
      "    return super().run_cell(*args, **kwargs)\n",
      "  File \"c:\\Users\\Adrian\\miniconda3\\envs\\myenv\\Lib\\site-packages\\IPython\\core\\interactiveshell.py\", line 3075, in run_cell\n",
      "    result = self._run_cell(\n",
      "  File \"c:\\Users\\Adrian\\miniconda3\\envs\\myenv\\Lib\\site-packages\\IPython\\core\\interactiveshell.py\", line 3130, in _run_cell\n",
      "    result = runner(coro)\n",
      "  File \"c:\\Users\\Adrian\\miniconda3\\envs\\myenv\\Lib\\site-packages\\IPython\\core\\async_helpers.py\", line 129, in _pseudo_sync_runner\n",
      "    coro.send(None)\n",
      "  File \"c:\\Users\\Adrian\\miniconda3\\envs\\myenv\\Lib\\site-packages\\IPython\\core\\interactiveshell.py\", line 3334, in run_cell_async\n",
      "    has_raised = await self.run_ast_nodes(code_ast.body, cell_name,\n",
      "  File \"c:\\Users\\Adrian\\miniconda3\\envs\\myenv\\Lib\\site-packages\\IPython\\core\\interactiveshell.py\", line 3517, in run_ast_nodes\n",
      "    if await self.run_code(code, result, async_=asy):\n",
      "  File \"c:\\Users\\Adrian\\miniconda3\\envs\\myenv\\Lib\\site-packages\\IPython\\core\\interactiveshell.py\", line 3577, in run_code\n",
      "    exec(code_obj, self.user_global_ns, self.user_ns)\n",
      "  File \"C:\\Users\\Adrian\\AppData\\Local\\Temp\\ipykernel_21992\\977178702.py\", line 1, in <module>\n",
      "    import evaluate #metrics\n",
      "  File \"c:\\Users\\Adrian\\miniconda3\\envs\\myenv\\Lib\\site-packages\\evaluate\\__init__.py\", line 29, in <module>\n",
      "    from .evaluation_suite import EvaluationSuite\n",
      "  File \"c:\\Users\\Adrian\\miniconda3\\envs\\myenv\\Lib\\site-packages\\evaluate\\evaluation_suite\\__init__.py\", line 7, in <module>\n",
      "    from datasets import Dataset, DownloadConfig, DownloadMode, load_dataset\n",
      "  File \"c:\\Users\\Adrian\\miniconda3\\envs\\myenv\\Lib\\site-packages\\datasets\\__init__.py\", line 17, in <module>\n",
      "    from .arrow_dataset import Column, Dataset\n",
      "  File \"c:\\Users\\Adrian\\miniconda3\\envs\\myenv\\Lib\\site-packages\\datasets\\arrow_dataset.py\", line 58, in <module>\n",
      "    import pandas as pd\n",
      "  File \"c:\\Users\\Adrian\\miniconda3\\envs\\myenv\\Lib\\site-packages\\pandas\\__init__.py\", line 61, in <module>\n",
      "    from pandas.core.api import (\n",
      "  File \"c:\\Users\\Adrian\\miniconda3\\envs\\myenv\\Lib\\site-packages\\pandas\\core\\api.py\", line 28, in <module>\n",
      "    from pandas.core.arrays import Categorical\n",
      "  File \"c:\\Users\\Adrian\\miniconda3\\envs\\myenv\\Lib\\site-packages\\pandas\\core\\arrays\\__init__.py\", line 1, in <module>\n",
      "    from pandas.core.arrays.arrow import ArrowExtensionArray\n",
      "  File \"c:\\Users\\Adrian\\miniconda3\\envs\\myenv\\Lib\\site-packages\\pandas\\core\\arrays\\arrow\\__init__.py\", line 5, in <module>\n",
      "    from pandas.core.arrays.arrow.array import ArrowExtensionArray\n",
      "  File \"c:\\Users\\Adrian\\miniconda3\\envs\\myenv\\Lib\\site-packages\\pandas\\core\\arrays\\arrow\\array.py\", line 52, in <module>\n",
      "    from pandas.core import (\n",
      "  File \"c:\\Users\\Adrian\\miniconda3\\envs\\myenv\\Lib\\site-packages\\pandas\\core\\ops\\__init__.py\", line 8, in <module>\n",
      "    from pandas.core.ops.array_ops import (\n",
      "  File \"c:\\Users\\Adrian\\miniconda3\\envs\\myenv\\Lib\\site-packages\\pandas\\core\\ops\\array_ops.py\", line 56, in <module>\n",
      "    from pandas.core.computation import expressions\n",
      "  File \"c:\\Users\\Adrian\\miniconda3\\envs\\myenv\\Lib\\site-packages\\pandas\\core\\computation\\expressions.py\", line 21, in <module>\n",
      "    from pandas.core.computation.check import NUMEXPR_INSTALLED\n",
      "  File \"c:\\Users\\Adrian\\miniconda3\\envs\\myenv\\Lib\\site-packages\\pandas\\core\\computation\\check.py\", line 5, in <module>\n",
      "    ne = import_optional_dependency(\"numexpr\", errors=\"warn\")\n",
      "  File \"c:\\Users\\Adrian\\miniconda3\\envs\\myenv\\Lib\\site-packages\\pandas\\compat\\_optional.py\", line 135, in import_optional_dependency\n",
      "    module = importlib.import_module(name)\n",
      "  File \"c:\\Users\\Adrian\\miniconda3\\envs\\myenv\\Lib\\importlib\\__init__.py\", line 90, in import_module\n",
      "    return _bootstrap._gcd_import(name[level:], package, level)\n",
      "  File \"c:\\Users\\Adrian\\miniconda3\\envs\\myenv\\Lib\\site-packages\\numexpr\\__init__.py\", line 24, in <module>\n",
      "    from numexpr.interpreter import MAX_THREADS, use_vml, __BLOCK_SIZE1__\n"
     ]
    },
    {
     "ename": "AttributeError",
     "evalue": "_ARRAY_API not found",
     "output_type": "error",
     "traceback": [
      "\u001b[1;31m---------------------------------------------------------------------------\u001b[0m",
      "\u001b[1;31mAttributeError\u001b[0m                            Traceback (most recent call last)",
      "\u001b[1;31mAttributeError\u001b[0m: _ARRAY_API not found"
     ]
    },
    {
     "name": "stderr",
     "output_type": "stream",
     "text": [
      "\n",
      "A module that was compiled using NumPy 1.x cannot be run in\n",
      "NumPy 2.3.2 as it may crash. To support both 1.x and 2.x\n",
      "versions of NumPy, modules must be compiled with NumPy 2.0.\n",
      "Some module may need to rebuild instead e.g. with 'pybind11>=2.12'.\n",
      "\n",
      "If you are a user of the module, the easiest solution will be to\n",
      "downgrade to 'numpy<2' or try to upgrade the affected module.\n",
      "We expect that some modules will need time to support NumPy 2.\n",
      "\n",
      "Traceback (most recent call last):  File \"<frozen runpy>\", line 198, in _run_module_as_main\n",
      "  File \"<frozen runpy>\", line 88, in _run_code\n",
      "  File \"c:\\Users\\Adrian\\miniconda3\\envs\\myenv\\Lib\\site-packages\\ipykernel_launcher.py\", line 17, in <module>\n",
      "    app.launch_new_instance()\n",
      "  File \"c:\\Users\\Adrian\\miniconda3\\envs\\myenv\\Lib\\site-packages\\traitlets\\config\\application.py\", line 1075, in launch_instance\n",
      "    app.start()\n",
      "  File \"c:\\Users\\Adrian\\miniconda3\\envs\\myenv\\Lib\\site-packages\\ipykernel\\kernelapp.py\", line 701, in start\n",
      "    self.io_loop.start()\n",
      "  File \"c:\\Users\\Adrian\\miniconda3\\envs\\myenv\\Lib\\site-packages\\tornado\\platform\\asyncio.py\", line 205, in start\n",
      "    self.asyncio_loop.run_forever()\n",
      "  File \"c:\\Users\\Adrian\\miniconda3\\envs\\myenv\\Lib\\asyncio\\windows_events.py\", line 322, in run_forever\n",
      "    super().run_forever()\n",
      "  File \"c:\\Users\\Adrian\\miniconda3\\envs\\myenv\\Lib\\asyncio\\base_events.py\", line 641, in run_forever\n",
      "    self._run_once()\n",
      "  File \"c:\\Users\\Adrian\\miniconda3\\envs\\myenv\\Lib\\asyncio\\base_events.py\", line 1987, in _run_once\n",
      "    handle._run()\n",
      "  File \"c:\\Users\\Adrian\\miniconda3\\envs\\myenv\\Lib\\asyncio\\events.py\", line 88, in _run\n",
      "    self._context.run(self._callback, *self._args)\n",
      "  File \"c:\\Users\\Adrian\\miniconda3\\envs\\myenv\\Lib\\site-packages\\ipykernel\\kernelbase.py\", line 534, in dispatch_queue\n",
      "    await self.process_one()\n",
      "  File \"c:\\Users\\Adrian\\miniconda3\\envs\\myenv\\Lib\\site-packages\\ipykernel\\kernelbase.py\", line 523, in process_one\n",
      "    await dispatch(*args)\n",
      "  File \"c:\\Users\\Adrian\\miniconda3\\envs\\myenv\\Lib\\site-packages\\ipykernel\\kernelbase.py\", line 429, in dispatch_shell\n",
      "    await result\n",
      "  File \"c:\\Users\\Adrian\\miniconda3\\envs\\myenv\\Lib\\site-packages\\ipykernel\\kernelbase.py\", line 767, in execute_request\n",
      "    reply_content = await reply_content\n",
      "  File \"c:\\Users\\Adrian\\miniconda3\\envs\\myenv\\Lib\\site-packages\\ipykernel\\ipkernel.py\", line 429, in do_execute\n",
      "    res = shell.run_cell(\n",
      "  File \"c:\\Users\\Adrian\\miniconda3\\envs\\myenv\\Lib\\site-packages\\ipykernel\\zmqshell.py\", line 549, in run_cell\n",
      "    return super().run_cell(*args, **kwargs)\n",
      "  File \"c:\\Users\\Adrian\\miniconda3\\envs\\myenv\\Lib\\site-packages\\IPython\\core\\interactiveshell.py\", line 3075, in run_cell\n",
      "    result = self._run_cell(\n",
      "  File \"c:\\Users\\Adrian\\miniconda3\\envs\\myenv\\Lib\\site-packages\\IPython\\core\\interactiveshell.py\", line 3130, in _run_cell\n",
      "    result = runner(coro)\n",
      "  File \"c:\\Users\\Adrian\\miniconda3\\envs\\myenv\\Lib\\site-packages\\IPython\\core\\async_helpers.py\", line 129, in _pseudo_sync_runner\n",
      "    coro.send(None)\n",
      "  File \"c:\\Users\\Adrian\\miniconda3\\envs\\myenv\\Lib\\site-packages\\IPython\\core\\interactiveshell.py\", line 3334, in run_cell_async\n",
      "    has_raised = await self.run_ast_nodes(code_ast.body, cell_name,\n",
      "  File \"c:\\Users\\Adrian\\miniconda3\\envs\\myenv\\Lib\\site-packages\\IPython\\core\\interactiveshell.py\", line 3517, in run_ast_nodes\n",
      "    if await self.run_code(code, result, async_=asy):\n",
      "  File \"c:\\Users\\Adrian\\miniconda3\\envs\\myenv\\Lib\\site-packages\\IPython\\core\\interactiveshell.py\", line 3577, in run_code\n",
      "    exec(code_obj, self.user_global_ns, self.user_ns)\n",
      "  File \"C:\\Users\\Adrian\\AppData\\Local\\Temp\\ipykernel_21992\\977178702.py\", line 1, in <module>\n",
      "    import evaluate #metrics\n",
      "  File \"c:\\Users\\Adrian\\miniconda3\\envs\\myenv\\Lib\\site-packages\\evaluate\\__init__.py\", line 29, in <module>\n",
      "    from .evaluation_suite import EvaluationSuite\n",
      "  File \"c:\\Users\\Adrian\\miniconda3\\envs\\myenv\\Lib\\site-packages\\evaluate\\evaluation_suite\\__init__.py\", line 7, in <module>\n",
      "    from datasets import Dataset, DownloadConfig, DownloadMode, load_dataset\n",
      "  File \"c:\\Users\\Adrian\\miniconda3\\envs\\myenv\\Lib\\site-packages\\datasets\\__init__.py\", line 17, in <module>\n",
      "    from .arrow_dataset import Column, Dataset\n",
      "  File \"c:\\Users\\Adrian\\miniconda3\\envs\\myenv\\Lib\\site-packages\\datasets\\arrow_dataset.py\", line 58, in <module>\n",
      "    import pandas as pd\n",
      "  File \"c:\\Users\\Adrian\\miniconda3\\envs\\myenv\\Lib\\site-packages\\pandas\\__init__.py\", line 61, in <module>\n",
      "    from pandas.core.api import (\n",
      "  File \"c:\\Users\\Adrian\\miniconda3\\envs\\myenv\\Lib\\site-packages\\pandas\\core\\api.py\", line 28, in <module>\n",
      "    from pandas.core.arrays import Categorical\n",
      "  File \"c:\\Users\\Adrian\\miniconda3\\envs\\myenv\\Lib\\site-packages\\pandas\\core\\arrays\\__init__.py\", line 1, in <module>\n",
      "    from pandas.core.arrays.arrow import ArrowExtensionArray\n",
      "  File \"c:\\Users\\Adrian\\miniconda3\\envs\\myenv\\Lib\\site-packages\\pandas\\core\\arrays\\arrow\\__init__.py\", line 5, in <module>\n",
      "    from pandas.core.arrays.arrow.array import ArrowExtensionArray\n",
      "  File \"c:\\Users\\Adrian\\miniconda3\\envs\\myenv\\Lib\\site-packages\\pandas\\core\\arrays\\arrow\\array.py\", line 66, in <module>\n",
      "    from pandas.core.arrays.masked import BaseMaskedArray\n",
      "  File \"c:\\Users\\Adrian\\miniconda3\\envs\\myenv\\Lib\\site-packages\\pandas\\core\\arrays\\masked.py\", line 61, in <module>\n",
      "    from pandas.core import (\n",
      "  File \"c:\\Users\\Adrian\\miniconda3\\envs\\myenv\\Lib\\site-packages\\pandas\\core\\nanops.py\", line 52, in <module>\n",
      "    bn = import_optional_dependency(\"bottleneck\", errors=\"warn\")\n",
      "  File \"c:\\Users\\Adrian\\miniconda3\\envs\\myenv\\Lib\\site-packages\\pandas\\compat\\_optional.py\", line 135, in import_optional_dependency\n",
      "    module = importlib.import_module(name)\n",
      "  File \"c:\\Users\\Adrian\\miniconda3\\envs\\myenv\\Lib\\importlib\\__init__.py\", line 90, in import_module\n",
      "    return _bootstrap._gcd_import(name[level:], package, level)\n",
      "  File \"c:\\Users\\Adrian\\miniconda3\\envs\\myenv\\Lib\\site-packages\\bottleneck\\__init__.py\", line 7, in <module>\n",
      "    from .move import (move_argmax, move_argmin, move_max, move_mean, move_median,\n"
     ]
    },
    {
     "ename": "ImportError",
     "evalue": "\nA module that was compiled using NumPy 1.x cannot be run in\nNumPy 2.3.2 as it may crash. To support both 1.x and 2.x\nversions of NumPy, modules must be compiled with NumPy 2.0.\nSome module may need to rebuild instead e.g. with 'pybind11>=2.12'.\n\nIf you are a user of the module, the easiest solution will be to\ndowngrade to 'numpy<2' or try to upgrade the affected module.\nWe expect that some modules will need time to support NumPy 2.\n\n",
     "output_type": "error",
     "traceback": [
      "\u001b[1;31m---------------------------------------------------------------------------\u001b[0m",
      "\u001b[1;31mImportError\u001b[0m                               Traceback (most recent call last)",
      "File \u001b[1;32mc:\\Users\\Adrian\\miniconda3\\envs\\myenv\\Lib\\site-packages\\numpy\\core\\_multiarray_umath.py:46\u001b[0m, in \u001b[0;36m__getattr__\u001b[1;34m(attr_name)\u001b[0m\n\u001b[0;32m     41\u001b[0m     \u001b[38;5;66;03m# Also print the message (with traceback).  This is because old versions\u001b[39;00m\n\u001b[0;32m     42\u001b[0m     \u001b[38;5;66;03m# of NumPy unfortunately set up the import to replace (and hide) the\u001b[39;00m\n\u001b[0;32m     43\u001b[0m     \u001b[38;5;66;03m# error.  The traceback shouldn't be needed, but e.g. pytest plugins\u001b[39;00m\n\u001b[0;32m     44\u001b[0m     \u001b[38;5;66;03m# seem to swallow it and we should be failing anyway...\u001b[39;00m\n\u001b[0;32m     45\u001b[0m     sys\u001b[38;5;241m.\u001b[39mstderr\u001b[38;5;241m.\u001b[39mwrite(msg \u001b[38;5;241m+\u001b[39m tb_msg)\n\u001b[1;32m---> 46\u001b[0m     \u001b[38;5;28;01mraise\u001b[39;00m \u001b[38;5;167;01mImportError\u001b[39;00m(msg)\n\u001b[0;32m     48\u001b[0m ret \u001b[38;5;241m=\u001b[39m \u001b[38;5;28mgetattr\u001b[39m(_multiarray_umath, attr_name, \u001b[38;5;28;01mNone\u001b[39;00m)\n\u001b[0;32m     49\u001b[0m \u001b[38;5;28;01mif\u001b[39;00m ret \u001b[38;5;129;01mis\u001b[39;00m \u001b[38;5;28;01mNone\u001b[39;00m:\n",
      "\u001b[1;31mImportError\u001b[0m: \nA module that was compiled using NumPy 1.x cannot be run in\nNumPy 2.3.2 as it may crash. To support both 1.x and 2.x\nversions of NumPy, modules must be compiled with NumPy 2.0.\nSome module may need to rebuild instead e.g. with 'pybind11>=2.12'.\n\nIf you are a user of the module, the easiest solution will be to\ndowngrade to 'numpy<2' or try to upgrade the affected module.\nWe expect that some modules will need time to support NumPy 2.\n\n"
     ]
    },
    {
     "name": "stderr",
     "output_type": "stream",
     "text": [
      "None of PyTorch, TensorFlow >= 2.0, or Flax have been found. Models won't be available and only tokenizers, configuration and file/data utilities can be used.\n",
      "c:\\Users\\Adrian\\miniconda3\\envs\\myenv\\Lib\\site-packages\\evaluate\\evaluator\\base.py:26: UserWarning: A NumPy version >=1.22.4 and <2.3.0 is required for this version of SciPy (detected version 2.3.2)\n",
      "  from scipy.stats import bootstrap\n",
      "\n",
      "A module that was compiled using NumPy 1.x cannot be run in\n",
      "NumPy 2.3.2 as it may crash. To support both 1.x and 2.x\n",
      "versions of NumPy, modules must be compiled with NumPy 2.0.\n",
      "Some module may need to rebuild instead e.g. with 'pybind11>=2.12'.\n",
      "\n",
      "If you are a user of the module, the easiest solution will be to\n",
      "downgrade to 'numpy<2' or try to upgrade the affected module.\n",
      "We expect that some modules will need time to support NumPy 2.\n",
      "\n",
      "Traceback (most recent call last):  File \"<frozen runpy>\", line 198, in _run_module_as_main\n",
      "  File \"<frozen runpy>\", line 88, in _run_code\n",
      "  File \"c:\\Users\\Adrian\\miniconda3\\envs\\myenv\\Lib\\site-packages\\ipykernel_launcher.py\", line 17, in <module>\n",
      "    app.launch_new_instance()\n",
      "  File \"c:\\Users\\Adrian\\miniconda3\\envs\\myenv\\Lib\\site-packages\\traitlets\\config\\application.py\", line 1075, in launch_instance\n",
      "    app.start()\n",
      "  File \"c:\\Users\\Adrian\\miniconda3\\envs\\myenv\\Lib\\site-packages\\ipykernel\\kernelapp.py\", line 701, in start\n",
      "    self.io_loop.start()\n",
      "  File \"c:\\Users\\Adrian\\miniconda3\\envs\\myenv\\Lib\\site-packages\\tornado\\platform\\asyncio.py\", line 205, in start\n",
      "    self.asyncio_loop.run_forever()\n",
      "  File \"c:\\Users\\Adrian\\miniconda3\\envs\\myenv\\Lib\\asyncio\\windows_events.py\", line 322, in run_forever\n",
      "    super().run_forever()\n",
      "  File \"c:\\Users\\Adrian\\miniconda3\\envs\\myenv\\Lib\\asyncio\\base_events.py\", line 641, in run_forever\n",
      "    self._run_once()\n",
      "  File \"c:\\Users\\Adrian\\miniconda3\\envs\\myenv\\Lib\\asyncio\\base_events.py\", line 1987, in _run_once\n",
      "    handle._run()\n",
      "  File \"c:\\Users\\Adrian\\miniconda3\\envs\\myenv\\Lib\\asyncio\\events.py\", line 88, in _run\n",
      "    self._context.run(self._callback, *self._args)\n",
      "  File \"c:\\Users\\Adrian\\miniconda3\\envs\\myenv\\Lib\\site-packages\\ipykernel\\kernelbase.py\", line 534, in dispatch_queue\n",
      "    await self.process_one()\n",
      "  File \"c:\\Users\\Adrian\\miniconda3\\envs\\myenv\\Lib\\site-packages\\ipykernel\\kernelbase.py\", line 523, in process_one\n",
      "    await dispatch(*args)\n",
      "  File \"c:\\Users\\Adrian\\miniconda3\\envs\\myenv\\Lib\\site-packages\\ipykernel\\kernelbase.py\", line 429, in dispatch_shell\n",
      "    await result\n",
      "  File \"c:\\Users\\Adrian\\miniconda3\\envs\\myenv\\Lib\\site-packages\\ipykernel\\kernelbase.py\", line 767, in execute_request\n",
      "    reply_content = await reply_content\n",
      "  File \"c:\\Users\\Adrian\\miniconda3\\envs\\myenv\\Lib\\site-packages\\ipykernel\\ipkernel.py\", line 429, in do_execute\n",
      "    res = shell.run_cell(\n",
      "  File \"c:\\Users\\Adrian\\miniconda3\\envs\\myenv\\Lib\\site-packages\\ipykernel\\zmqshell.py\", line 549, in run_cell\n",
      "    return super().run_cell(*args, **kwargs)\n",
      "  File \"c:\\Users\\Adrian\\miniconda3\\envs\\myenv\\Lib\\site-packages\\IPython\\core\\interactiveshell.py\", line 3075, in run_cell\n",
      "    result = self._run_cell(\n",
      "  File \"c:\\Users\\Adrian\\miniconda3\\envs\\myenv\\Lib\\site-packages\\IPython\\core\\interactiveshell.py\", line 3130, in _run_cell\n",
      "    result = runner(coro)\n",
      "  File \"c:\\Users\\Adrian\\miniconda3\\envs\\myenv\\Lib\\site-packages\\IPython\\core\\async_helpers.py\", line 129, in _pseudo_sync_runner\n",
      "    coro.send(None)\n",
      "  File \"c:\\Users\\Adrian\\miniconda3\\envs\\myenv\\Lib\\site-packages\\IPython\\core\\interactiveshell.py\", line 3334, in run_cell_async\n",
      "    has_raised = await self.run_ast_nodes(code_ast.body, cell_name,\n",
      "  File \"c:\\Users\\Adrian\\miniconda3\\envs\\myenv\\Lib\\site-packages\\IPython\\core\\interactiveshell.py\", line 3517, in run_ast_nodes\n",
      "    if await self.run_code(code, result, async_=asy):\n",
      "  File \"c:\\Users\\Adrian\\miniconda3\\envs\\myenv\\Lib\\site-packages\\IPython\\core\\interactiveshell.py\", line 3577, in run_code\n",
      "    exec(code_obj, self.user_global_ns, self.user_ns)\n",
      "  File \"C:\\Users\\Adrian\\AppData\\Local\\Temp\\ipykernel_21992\\977178702.py\", line 1, in <module>\n",
      "    import evaluate #metrics\n",
      "  File \"c:\\Users\\Adrian\\miniconda3\\envs\\myenv\\Lib\\site-packages\\evaluate\\__init__.py\", line 29, in <module>\n",
      "    from .evaluation_suite import EvaluationSuite\n",
      "  File \"c:\\Users\\Adrian\\miniconda3\\envs\\myenv\\Lib\\site-packages\\evaluate\\evaluation_suite\\__init__.py\", line 10, in <module>\n",
      "    from ..evaluator import evaluator\n",
      "  File \"c:\\Users\\Adrian\\miniconda3\\envs\\myenv\\Lib\\site-packages\\evaluate\\evaluator\\__init__.py\", line 27, in <module>\n",
      "    from .audio_classification import AudioClassificationEvaluator\n",
      "  File \"c:\\Users\\Adrian\\miniconda3\\envs\\myenv\\Lib\\site-packages\\evaluate\\evaluator\\audio_classification.py\", line 23, in <module>\n",
      "    from .base import EVALUATOR_COMPUTE_RETURN_DOCSTRING, EVALUTOR_COMPUTE_START_DOCSTRING, Evaluator\n",
      "  File \"c:\\Users\\Adrian\\miniconda3\\envs\\myenv\\Lib\\site-packages\\evaluate\\evaluator\\base.py\", line 26, in <module>\n",
      "    from scipy.stats import bootstrap\n",
      "  File \"c:\\Users\\Adrian\\miniconda3\\envs\\myenv\\Lib\\site-packages\\scipy\\stats\\__init__.py\", line 606, in <module>\n",
      "    from ._stats_py import *\n",
      "  File \"c:\\Users\\Adrian\\miniconda3\\envs\\myenv\\Lib\\site-packages\\scipy\\stats\\_stats_py.py\", line 37, in <module>\n",
      "    from scipy import sparse\n",
      "  File \"c:\\Users\\Adrian\\miniconda3\\envs\\myenv\\Lib\\site-packages\\scipy\\__init__.py\", line 134, in __getattr__\n",
      "    return _importlib.import_module(f'scipy.{name}')\n",
      "  File \"c:\\Users\\Adrian\\miniconda3\\envs\\myenv\\Lib\\importlib\\__init__.py\", line 90, in import_module\n",
      "    return _bootstrap._gcd_import(name[level:], package, level)\n",
      "  File \"c:\\Users\\Adrian\\miniconda3\\envs\\myenv\\Lib\\site-packages\\scipy\\sparse\\__init__.py\", line 295, in <module>\n",
      "    from ._csr import *\n",
      "  File \"c:\\Users\\Adrian\\miniconda3\\envs\\myenv\\Lib\\site-packages\\scipy\\sparse\\_csr.py\", line 11, in <module>\n",
      "    from ._sparsetools import (csr_tocsc, csr_tobsr, csr_count_blocks,\n"
     ]
    },
    {
     "ename": "ImportError",
     "evalue": "\nA module that was compiled using NumPy 1.x cannot be run in\nNumPy 2.3.2 as it may crash. To support both 1.x and 2.x\nversions of NumPy, modules must be compiled with NumPy 2.0.\nSome module may need to rebuild instead e.g. with 'pybind11>=2.12'.\n\nIf you are a user of the module, the easiest solution will be to\ndowngrade to 'numpy<2' or try to upgrade the affected module.\nWe expect that some modules will need time to support NumPy 2.\n\n",
     "output_type": "error",
     "traceback": [
      "\u001b[1;31m---------------------------------------------------------------------------\u001b[0m",
      "\u001b[1;31mImportError\u001b[0m                               Traceback (most recent call last)",
      "File \u001b[1;32mc:\\Users\\Adrian\\miniconda3\\envs\\myenv\\Lib\\site-packages\\numpy\\core\\_multiarray_umath.py:46\u001b[0m, in \u001b[0;36m__getattr__\u001b[1;34m(attr_name)\u001b[0m\n\u001b[0;32m     41\u001b[0m     \u001b[38;5;66;03m# Also print the message (with traceback).  This is because old versions\u001b[39;00m\n\u001b[0;32m     42\u001b[0m     \u001b[38;5;66;03m# of NumPy unfortunately set up the import to replace (and hide) the\u001b[39;00m\n\u001b[0;32m     43\u001b[0m     \u001b[38;5;66;03m# error.  The traceback shouldn't be needed, but e.g. pytest plugins\u001b[39;00m\n\u001b[0;32m     44\u001b[0m     \u001b[38;5;66;03m# seem to swallow it and we should be failing anyway...\u001b[39;00m\n\u001b[0;32m     45\u001b[0m     sys\u001b[38;5;241m.\u001b[39mstderr\u001b[38;5;241m.\u001b[39mwrite(msg \u001b[38;5;241m+\u001b[39m tb_msg)\n\u001b[1;32m---> 46\u001b[0m     \u001b[38;5;28;01mraise\u001b[39;00m \u001b[38;5;167;01mImportError\u001b[39;00m(msg)\n\u001b[0;32m     48\u001b[0m ret \u001b[38;5;241m=\u001b[39m \u001b[38;5;28mgetattr\u001b[39m(_multiarray_umath, attr_name, \u001b[38;5;28;01mNone\u001b[39;00m)\n\u001b[0;32m     49\u001b[0m \u001b[38;5;28;01mif\u001b[39;00m ret \u001b[38;5;129;01mis\u001b[39;00m \u001b[38;5;28;01mNone\u001b[39;00m:\n",
      "\u001b[1;31mImportError\u001b[0m: \nA module that was compiled using NumPy 1.x cannot be run in\nNumPy 2.3.2 as it may crash. To support both 1.x and 2.x\nversions of NumPy, modules must be compiled with NumPy 2.0.\nSome module may need to rebuild instead e.g. with 'pybind11>=2.12'.\n\nIf you are a user of the module, the easiest solution will be to\ndowngrade to 'numpy<2' or try to upgrade the affected module.\nWe expect that some modules will need time to support NumPy 2.\n\n"
     ]
    },
    {
     "data": {
      "text/plain": [
       "'0.4.5'"
      ]
     },
     "execution_count": 8,
     "metadata": {},
     "output_type": "execute_result"
    }
   ],
   "source": [
    "import evaluate #metrics\n",
    "evaluate.__version__"
   ]
  },
  {
   "cell_type": "code",
   "execution_count": 10,
   "id": "1304d9ca",
   "metadata": {},
   "outputs": [
    {
     "name": "stdout",
     "output_type": "stream",
     "text": [
      "Collecting accelerate\n",
      "  Downloading accelerate-1.10.1-py3-none-any.whl.metadata (19 kB)\n",
      "Requirement already satisfied: numpy<3.0.0,>=1.17 in c:\\users\\adrian\\miniconda3\\envs\\myenv\\lib\\site-packages (from accelerate) (2.3.2)\n",
      "Requirement already satisfied: packaging>=20.0 in c:\\users\\adrian\\miniconda3\\envs\\myenv\\lib\\site-packages (from accelerate) (23.2)\n",
      "Requirement already satisfied: psutil in c:\\users\\adrian\\miniconda3\\envs\\myenv\\lib\\site-packages (from accelerate) (5.9.0)\n",
      "Requirement already satisfied: pyyaml in c:\\users\\adrian\\miniconda3\\envs\\myenv\\lib\\site-packages (from accelerate) (6.0.1)\n",
      "Collecting torch>=2.0.0 (from accelerate)\n",
      "  Downloading torch-2.8.0-cp312-cp312-win_amd64.whl.metadata (30 kB)\n",
      "Requirement already satisfied: huggingface_hub>=0.21.0 in c:\\users\\adrian\\miniconda3\\envs\\myenv\\lib\\site-packages (from accelerate) (0.34.4)\n",
      "Requirement already satisfied: safetensors>=0.4.3 in c:\\users\\adrian\\miniconda3\\envs\\myenv\\lib\\site-packages (from accelerate) (0.6.2)\n",
      "Requirement already satisfied: filelock in c:\\users\\adrian\\miniconda3\\envs\\myenv\\lib\\site-packages (from huggingface_hub>=0.21.0->accelerate) (3.19.1)\n",
      "Requirement already satisfied: fsspec>=2023.5.0 in c:\\users\\adrian\\miniconda3\\envs\\myenv\\lib\\site-packages (from huggingface_hub>=0.21.0->accelerate) (2025.3.0)\n",
      "Requirement already satisfied: requests in c:\\users\\adrian\\miniconda3\\envs\\myenv\\lib\\site-packages (from huggingface_hub>=0.21.0->accelerate) (2.32.2)\n",
      "Requirement already satisfied: tqdm>=4.42.1 in c:\\users\\adrian\\miniconda3\\envs\\myenv\\lib\\site-packages (from huggingface_hub>=0.21.0->accelerate) (4.67.1)\n",
      "Requirement already satisfied: typing-extensions>=3.7.4.3 in c:\\users\\adrian\\miniconda3\\envs\\myenv\\lib\\site-packages (from huggingface_hub>=0.21.0->accelerate) (4.15.0)\n",
      "Collecting sympy>=1.13.3 (from torch>=2.0.0->accelerate)\n",
      "  Using cached sympy-1.14.0-py3-none-any.whl.metadata (12 kB)\n",
      "Collecting networkx (from torch>=2.0.0->accelerate)\n",
      "  Using cached networkx-3.5-py3-none-any.whl.metadata (6.3 kB)\n",
      "Requirement already satisfied: jinja2 in c:\\users\\adrian\\miniconda3\\envs\\myenv\\lib\\site-packages (from torch>=2.0.0->accelerate) (3.1.4)\n",
      "Requirement already satisfied: setuptools in c:\\users\\adrian\\miniconda3\\envs\\myenv\\lib\\site-packages (from torch>=2.0.0->accelerate) (69.5.1)\n",
      "Collecting mpmath<1.4,>=1.1.0 (from sympy>=1.13.3->torch>=2.0.0->accelerate)\n",
      "  Using cached mpmath-1.3.0-py3-none-any.whl.metadata (8.6 kB)\n",
      "Requirement already satisfied: colorama in c:\\users\\adrian\\miniconda3\\envs\\myenv\\lib\\site-packages (from tqdm>=4.42.1->huggingface_hub>=0.21.0->accelerate) (0.4.6)\n",
      "Requirement already satisfied: MarkupSafe>=2.0 in c:\\users\\adrian\\miniconda3\\envs\\myenv\\lib\\site-packages (from jinja2->torch>=2.0.0->accelerate) (2.1.3)\n",
      "Requirement already satisfied: charset-normalizer<4,>=2 in c:\\users\\adrian\\miniconda3\\envs\\myenv\\lib\\site-packages (from requests->huggingface_hub>=0.21.0->accelerate) (2.0.4)\n",
      "Requirement already satisfied: idna<4,>=2.5 in c:\\users\\adrian\\miniconda3\\envs\\myenv\\lib\\site-packages (from requests->huggingface_hub>=0.21.0->accelerate) (3.7)\n",
      "Requirement already satisfied: urllib3<3,>=1.21.1 in c:\\users\\adrian\\miniconda3\\envs\\myenv\\lib\\site-packages (from requests->huggingface_hub>=0.21.0->accelerate) (2.2.2)\n",
      "Requirement already satisfied: certifi>=2017.4.17 in c:\\users\\adrian\\miniconda3\\envs\\myenv\\lib\\site-packages (from requests->huggingface_hub>=0.21.0->accelerate) (2024.6.2)\n",
      "Downloading accelerate-1.10.1-py3-none-any.whl (374 kB)\n",
      "   ---------------------------------------- 0.0/374.9 kB ? eta -:--:--\n",
      "   ------ --------------------------------- 61.4/374.9 kB 1.7 MB/s eta 0:00:01\n",
      "   ------------------ --------------------- 174.1/374.9 kB 2.1 MB/s eta 0:00:01\n",
      "   -------------------------------------- - 358.4/374.9 kB 2.8 MB/s eta 0:00:01\n",
      "   ---------------------------------------- 374.9/374.9 kB 2.6 MB/s eta 0:00:00\n",
      "Downloading torch-2.8.0-cp312-cp312-win_amd64.whl (241.3 MB)\n",
      "   ---------------------------------------- 0.0/241.3 MB ? eta -:--:--\n",
      "   ---------------------------------------- 0.4/241.3 MB 25.6 MB/s eta 0:00:10\n",
      "   ---------------------------------------- 1.3/241.3 MB 16.1 MB/s eta 0:00:15\n",
      "   ---------------------------------------- 2.3/241.3 MB 18.3 MB/s eta 0:00:14\n",
      "    --------------------------------------- 3.6/241.3 MB 21.0 MB/s eta 0:00:12\n",
      "    --------------------------------------- 5.9/241.3 MB 27.1 MB/s eta 0:00:09\n",
      "   - -------------------------------------- 8.1/241.3 MB 30.3 MB/s eta 0:00:08\n",
      "   - -------------------------------------- 10.4/241.3 MB 32.7 MB/s eta 0:00:08\n",
      "   -- ------------------------------------- 12.3/241.3 MB 43.5 MB/s eta 0:00:06\n",
      "   -- ------------------------------------- 12.3/241.3 MB 43.5 MB/s eta 0:00:06\n",
      "   -- ------------------------------------- 12.3/241.3 MB 43.5 MB/s eta 0:00:06\n",
      "   -- ------------------------------------- 12.3/241.3 MB 43.5 MB/s eta 0:00:06\n",
      "   -- ------------------------------------- 12.3/241.3 MB 43.5 MB/s eta 0:00:06\n",
      "   -- ------------------------------------- 12.3/241.3 MB 43.5 MB/s eta 0:00:06\n",
      "   -- ------------------------------------- 12.3/241.3 MB 43.5 MB/s eta 0:00:06\n",
      "   -- ------------------------------------- 12.3/241.3 MB 43.5 MB/s eta 0:00:06\n",
      "   -- ------------------------------------- 12.3/241.3 MB 43.5 MB/s eta 0:00:06\n",
      "   -- ------------------------------------- 12.3/241.3 MB 43.5 MB/s eta 0:00:06\n",
      "   -- ------------------------------------- 12.3/241.3 MB 43.5 MB/s eta 0:00:06\n",
      "   -- ------------------------------------- 12.3/241.3 MB 43.5 MB/s eta 0:00:06\n",
      "   -- ------------------------------------- 12.3/241.3 MB 13.4 MB/s eta 0:00:18\n",
      "   -- ------------------------------------- 12.3/241.3 MB 13.4 MB/s eta 0:00:18\n",
      "   -- ------------------------------------- 12.3/241.3 MB 11.7 MB/s eta 0:00:20\n",
      "   -- ------------------------------------- 12.3/241.3 MB 11.7 MB/s eta 0:00:20\n",
      "   -- ------------------------------------- 12.3/241.3 MB 11.7 MB/s eta 0:00:20\n",
      "   -- ------------------------------------- 12.3/241.3 MB 11.7 MB/s eta 0:00:20\n",
      "   -- ------------------------------------- 12.3/241.3 MB 11.7 MB/s eta 0:00:20\n",
      "   -- ------------------------------------- 12.3/241.3 MB 11.7 MB/s eta 0:00:20\n",
      "   -- ------------------------------------- 12.3/241.3 MB 11.7 MB/s eta 0:00:20\n",
      "   -- ------------------------------------- 12.3/241.3 MB 11.7 MB/s eta 0:00:20\n",
      "   -- ------------------------------------- 12.3/241.3 MB 11.7 MB/s eta 0:00:20\n",
      "   -- ------------------------------------- 12.3/241.3 MB 11.7 MB/s eta 0:00:20\n",
      "   -- ------------------------------------- 12.3/241.3 MB 11.7 MB/s eta 0:00:20\n",
      "   -- ------------------------------------- 12.3/241.3 MB 11.7 MB/s eta 0:00:20\n",
      "   -- ------------------------------------- 12.3/241.3 MB 11.7 MB/s eta 0:00:20\n",
      "   -- ------------------------------------- 12.3/241.3 MB 11.7 MB/s eta 0:00:20\n",
      "   -- ------------------------------------- 12.3/241.3 MB 11.7 MB/s eta 0:00:20\n",
      "   -- ------------------------------------- 12.3/241.3 MB 11.7 MB/s eta 0:00:20\n",
      "   -- ------------------------------------- 12.3/241.3 MB 11.7 MB/s eta 0:00:20\n",
      "   -- ------------------------------------- 12.3/241.3 MB 11.7 MB/s eta 0:00:20\n",
      "   -- ------------------------------------- 12.3/241.3 MB 11.7 MB/s eta 0:00:20\n",
      "   -- ------------------------------------- 12.3/241.3 MB 5.8 MB/s eta 0:00:40\n",
      "   -- ------------------------------------- 12.4/241.3 MB 5.7 MB/s eta 0:00:41\n",
      "   -- ------------------------------------- 12.4/241.3 MB 5.5 MB/s eta 0:00:42\n",
      "   -- ------------------------------------- 12.5/241.3 MB 5.4 MB/s eta 0:00:43\n",
      "   -- ------------------------------------- 12.5/241.3 MB 5.2 MB/s eta 0:00:44\n",
      "   -- ------------------------------------- 12.5/241.3 MB 5.1 MB/s eta 0:00:46\n",
      "   -- ------------------------------------- 12.5/241.3 MB 5.0 MB/s eta 0:00:47\n",
      "   -- ------------------------------------- 12.5/241.3 MB 5.0 MB/s eta 0:00:47\n",
      "   -- ------------------------------------- 12.7/241.3 MB 4.8 MB/s eta 0:00:48\n",
      "   -- ------------------------------------- 12.7/241.3 MB 4.7 MB/s eta 0:00:49\n",
      "   -- ------------------------------------- 12.7/241.3 MB 4.6 MB/s eta 0:00:50\n",
      "   -- ------------------------------------- 12.8/241.3 MB 4.5 MB/s eta 0:00:51\n",
      "   -- ------------------------------------- 12.9/241.3 MB 4.4 MB/s eta 0:00:52\n",
      "   -- ------------------------------------- 13.0/241.3 MB 4.3 MB/s eta 0:00:54\n",
      "   -- ------------------------------------- 13.0/241.3 MB 4.2 MB/s eta 0:00:55\n",
      "   -- ------------------------------------- 13.0/241.3 MB 4.2 MB/s eta 0:00:55\n",
      "   -- ------------------------------------- 13.1/241.3 MB 4.1 MB/s eta 0:00:56\n",
      "   -- ------------------------------------- 13.2/241.3 MB 4.1 MB/s eta 0:00:57\n",
      "   -- ------------------------------------- 13.3/241.3 MB 4.0 MB/s eta 0:00:58\n",
      "   -- ------------------------------------- 13.4/241.3 MB 3.9 MB/s eta 0:00:59\n",
      "   -- ------------------------------------- 13.4/241.3 MB 3.8 MB/s eta 0:01:00\n",
      "   -- ------------------------------------- 13.6/241.3 MB 3.8 MB/s eta 0:01:01\n",
      "   -- ------------------------------------- 13.6/241.3 MB 3.7 MB/s eta 0:01:02\n",
      "   -- ------------------------------------- 13.7/241.3 MB 3.6 MB/s eta 0:01:03\n",
      "   -- ------------------------------------- 13.8/241.3 MB 3.6 MB/s eta 0:01:03\n",
      "   -- ------------------------------------- 13.9/241.3 MB 3.6 MB/s eta 0:01:04\n",
      "   -- ------------------------------------- 14.0/241.3 MB 3.5 MB/s eta 0:01:05\n",
      "   -- ------------------------------------- 14.2/241.3 MB 3.4 MB/s eta 0:01:06\n",
      "   -- ------------------------------------- 14.3/241.3 MB 3.4 MB/s eta 0:01:07\n",
      "   -- ------------------------------------- 14.4/241.3 MB 3.3 MB/s eta 0:01:08\n",
      "   -- ------------------------------------- 14.6/241.3 MB 3.3 MB/s eta 0:01:10\n",
      "   -- ------------------------------------- 14.7/241.3 MB 3.2 MB/s eta 0:01:11\n",
      "   -- ------------------------------------- 14.7/241.3 MB 3.2 MB/s eta 0:01:11\n",
      "   -- ------------------------------------- 14.9/241.3 MB 3.2 MB/s eta 0:01:12\n",
      "   -- ------------------------------------- 16.2/241.3 MB 3.1 MB/s eta 0:01:12\n",
      "   -- ------------------------------------- 17.2/241.3 MB 3.1 MB/s eta 0:01:12\n",
      "   -- ------------------------------------- 17.6/241.3 MB 3.1 MB/s eta 0:01:13\n",
      "   -- ------------------------------------- 17.7/241.3 MB 3.0 MB/s eta 0:01:14\n",
      "   -- ------------------------------------- 17.8/241.3 MB 3.0 MB/s eta 0:01:16\n",
      "   -- ------------------------------------- 17.8/241.3 MB 2.9 MB/s eta 0:01:17\n",
      "   -- ------------------------------------- 17.9/241.3 MB 2.9 MB/s eta 0:01:16\n",
      "   -- ------------------------------------- 18.0/241.3 MB 2.9 MB/s eta 0:01:18\n",
      "   --- ------------------------------------ 18.1/241.3 MB 2.9 MB/s eta 0:01:19\n",
      "   --- ------------------------------------ 18.3/241.3 MB 2.8 MB/s eta 0:01:20\n",
      "   --- ------------------------------------ 18.4/241.3 MB 2.8 MB/s eta 0:01:21\n",
      "   --- ------------------------------------ 18.5/241.3 MB 2.7 MB/s eta 0:01:22\n",
      "   --- ------------------------------------ 18.7/241.3 MB 2.7 MB/s eta 0:01:23\n",
      "   --- ------------------------------------ 18.7/241.3 MB 2.7 MB/s eta 0:01:23\n",
      "   --- ------------------------------------ 18.9/241.3 MB 2.7 MB/s eta 0:01:24\n",
      "   --- ------------------------------------ 19.0/241.3 MB 2.6 MB/s eta 0:01:25\n",
      "   --- ------------------------------------ 19.2/241.3 MB 2.6 MB/s eta 0:01:26\n",
      "   --- ------------------------------------ 19.4/241.3 MB 2.6 MB/s eta 0:01:27\n",
      "   --- ------------------------------------ 19.6/241.3 MB 2.5 MB/s eta 0:01:28\n",
      "   --- ------------------------------------ 19.7/241.3 MB 2.5 MB/s eta 0:01:29\n",
      "   --- ------------------------------------ 19.9/241.3 MB 2.5 MB/s eta 0:01:30\n",
      "   --- ------------------------------------ 20.0/241.3 MB 2.4 MB/s eta 0:01:31\n",
      "   --- ------------------------------------ 20.3/241.3 MB 2.4 MB/s eta 0:01:32\n",
      "   --- ------------------------------------ 20.5/241.3 MB 2.4 MB/s eta 0:01:32\n",
      "   --- ------------------------------------ 20.6/241.3 MB 2.4 MB/s eta 0:01:34\n",
      "   --- ------------------------------------ 20.7/241.3 MB 2.4 MB/s eta 0:01:34\n",
      "   --- ------------------------------------ 20.9/241.3 MB 2.3 MB/s eta 0:01:35\n",
      "   --- ------------------------------------ 21.1/241.3 MB 2.3 MB/s eta 0:01:36\n",
      "   --- ------------------------------------ 21.4/241.3 MB 2.3 MB/s eta 0:01:37\n",
      "   --- ------------------------------------ 21.6/241.3 MB 2.3 MB/s eta 0:01:38\n",
      "   --- ------------------------------------ 21.9/241.3 MB 2.2 MB/s eta 0:01:38\n",
      "   --- ------------------------------------ 22.1/241.3 MB 2.2 MB/s eta 0:01:39\n",
      "   --- ------------------------------------ 22.4/241.3 MB 2.2 MB/s eta 0:01:40\n",
      "   --- ------------------------------------ 22.7/241.3 MB 3.5 MB/s eta 0:01:04\n",
      "   --- ------------------------------------ 23.0/241.3 MB 3.9 MB/s eta 0:00:57\n",
      "   --- ------------------------------------ 23.3/241.3 MB 4.2 MB/s eta 0:00:53\n",
      "   --- ------------------------------------ 23.7/241.3 MB 4.4 MB/s eta 0:00:50\n",
      "   --- ------------------------------------ 24.0/241.3 MB 4.6 MB/s eta 0:00:48\n",
      "   ---- ----------------------------------- 24.4/241.3 MB 4.8 MB/s eta 0:00:46\n",
      "   ---- ----------------------------------- 24.8/241.3 MB 5.1 MB/s eta 0:00:43\n",
      "   ---- ----------------------------------- 25.1/241.3 MB 5.4 MB/s eta 0:00:40\n",
      "   ---- ----------------------------------- 25.6/241.3 MB 5.3 MB/s eta 0:00:41\n",
      "   ---- ----------------------------------- 26.0/241.3 MB 5.2 MB/s eta 0:00:42\n",
      "   ---- ----------------------------------- 26.4/241.3 MB 5.0 MB/s eta 0:00:43\n",
      "   ---- ----------------------------------- 26.9/241.3 MB 5.0 MB/s eta 0:00:43\n",
      "   ---- ----------------------------------- 27.4/241.3 MB 4.9 MB/s eta 0:00:44\n",
      "   ---- ----------------------------------- 27.9/241.3 MB 5.2 MB/s eta 0:00:42\n",
      "   ---- ----------------------------------- 28.4/241.3 MB 5.7 MB/s eta 0:00:38\n",
      "   ---- ----------------------------------- 29.0/241.3 MB 6.3 MB/s eta 0:00:34\n",
      "   ---- ----------------------------------- 29.5/241.3 MB 6.8 MB/s eta 0:00:32\n",
      "   ---- ----------------------------------- 30.1/241.3 MB 7.4 MB/s eta 0:00:29\n",
      "   ----- ---------------------------------- 30.7/241.3 MB 7.9 MB/s eta 0:00:27\n",
      "   ----- ---------------------------------- 31.3/241.3 MB 8.7 MB/s eta 0:00:25\n",
      "   ----- ---------------------------------- 32.0/241.3 MB 9.4 MB/s eta 0:00:23\n",
      "   ----- ---------------------------------- 32.7/241.3 MB 10.1 MB/s eta 0:00:21\n",
      "   ----- ---------------------------------- 33.4/241.3 MB 10.7 MB/s eta 0:00:20\n",
      "   ----- ---------------------------------- 34.1/241.3 MB 11.3 MB/s eta 0:00:19\n",
      "   ----- ---------------------------------- 34.9/241.3 MB 11.9 MB/s eta 0:00:18\n",
      "   ----- ---------------------------------- 35.7/241.3 MB 12.8 MB/s eta 0:00:17\n",
      "   ------ --------------------------------- 36.6/241.3 MB 13.6 MB/s eta 0:00:16\n",
      "   ------ --------------------------------- 37.4/241.3 MB 14.2 MB/s eta 0:00:15\n",
      "   ------ --------------------------------- 38.3/241.3 MB 15.2 MB/s eta 0:00:14\n",
      "   ------ --------------------------------- 39.3/241.3 MB 16.0 MB/s eta 0:00:13\n",
      "   ------ --------------------------------- 40.3/241.3 MB 16.8 MB/s eta 0:00:12\n",
      "   ------ --------------------------------- 41.3/241.3 MB 17.7 MB/s eta 0:00:12\n",
      "   ------- -------------------------------- 42.4/241.3 MB 18.7 MB/s eta 0:00:11\n",
      "   ------- -------------------------------- 43.5/241.3 MB 19.9 MB/s eta 0:00:10\n",
      "   ------- -------------------------------- 44.6/241.3 MB 20.5 MB/s eta 0:00:10\n",
      "   ------- -------------------------------- 45.8/241.3 MB 21.8 MB/s eta 0:00:09\n",
      "   ------- -------------------------------- 47.1/241.3 MB 23.4 MB/s eta 0:00:09\n",
      "   -------- ------------------------------- 48.6/241.3 MB 24.2 MB/s eta 0:00:08\n",
      "   -------- ------------------------------- 49.9/241.3 MB 25.1 MB/s eta 0:00:08\n",
      "   -------- ------------------------------- 51.2/241.3 MB 26.2 MB/s eta 0:00:08\n",
      "   -------- ------------------------------- 52.6/241.3 MB 27.3 MB/s eta 0:00:07\n",
      "   -------- ------------------------------- 54.3/241.3 MB 29.8 MB/s eta 0:00:07\n",
      "   --------- ------------------------------ 55.7/241.3 MB 29.7 MB/s eta 0:00:07\n",
      "   --------- ------------------------------ 57.5/241.3 MB 32.8 MB/s eta 0:00:06\n",
      "   --------- ------------------------------ 59.1/241.3 MB 32.7 MB/s eta 0:00:06\n",
      "   ---------- ----------------------------- 60.9/241.3 MB 34.4 MB/s eta 0:00:06\n",
      "   ---------- ----------------------------- 62.6/241.3 MB 34.4 MB/s eta 0:00:06\n",
      "   ---------- ----------------------------- 64.7/241.3 MB 38.5 MB/s eta 0:00:05\n",
      "   ----------- ---------------------------- 66.7/241.3 MB 38.6 MB/s eta 0:00:05\n",
      "   ----------- ---------------------------- 68.7/241.3 MB 40.9 MB/s eta 0:00:05\n",
      "   ----------- ---------------------------- 70.6/241.3 MB 40.9 MB/s eta 0:00:05\n",
      "   ------------ --------------------------- 72.8/241.3 MB 43.7 MB/s eta 0:00:04\n",
      "   ------------ --------------------------- 75.1/241.3 MB 46.7 MB/s eta 0:00:04\n",
      "   ------------ --------------------------- 77.4/241.3 MB 46.7 MB/s eta 0:00:04\n",
      "   ------------- -------------------------- 79.6/241.3 MB 46.7 MB/s eta 0:00:04\n",
      "   ------------- -------------------------- 81.7/241.3 MB 46.7 MB/s eta 0:00:04\n",
      "   ------------- -------------------------- 83.9/241.3 MB 46.9 MB/s eta 0:00:04\n",
      "   -------------- ------------------------- 86.0/241.3 MB 46.9 MB/s eta 0:00:04\n",
      "   -------------- ------------------------- 88.3/241.3 MB 46.7 MB/s eta 0:00:04\n",
      "   --------------- ------------------------ 90.5/241.3 MB 46.7 MB/s eta 0:00:04\n",
      "   --------------- ------------------------ 92.8/241.3 MB 46.7 MB/s eta 0:00:04\n",
      "   --------------- ------------------------ 94.8/241.3 MB 46.7 MB/s eta 0:00:04\n",
      "   ---------------- ----------------------- 97.2/241.3 MB 46.7 MB/s eta 0:00:04\n",
      "   ---------------- ----------------------- 99.4/241.3 MB 46.7 MB/s eta 0:00:04\n",
      "   ---------------- ---------------------- 101.6/241.3 MB 46.9 MB/s eta 0:00:03\n",
      "   ---------------- ---------------------- 103.7/241.3 MB 46.9 MB/s eta 0:00:03\n",
      "   ----------------- --------------------- 105.8/241.3 MB 46.7 MB/s eta 0:00:03\n",
      "   ----------------- --------------------- 107.9/241.3 MB 46.7 MB/s eta 0:00:03\n",
      "   ----------------- --------------------- 110.1/241.3 MB 43.7 MB/s eta 0:00:04\n",
      "   ------------------ -------------------- 112.4/241.3 MB 46.7 MB/s eta 0:00:03\n",
      "   ------------------ -------------------- 114.6/241.3 MB 46.7 MB/s eta 0:00:03\n",
      "   ------------------ -------------------- 116.8/241.3 MB 46.7 MB/s eta 0:00:03\n",
      "   ------------------- ------------------- 119.0/241.3 MB 46.9 MB/s eta 0:00:03\n",
      "   ------------------- ------------------- 121.0/241.3 MB 50.4 MB/s eta 0:00:03\n",
      "   ------------------- ------------------- 123.3/241.3 MB 43.7 MB/s eta 0:00:03\n",
      "   -------------------- ------------------ 125.5/241.3 MB 46.9 MB/s eta 0:00:03\n",
      "   -------------------- ------------------ 127.9/241.3 MB 46.7 MB/s eta 0:00:03\n",
      "   --------------------- ----------------- 130.0/241.3 MB 50.4 MB/s eta 0:00:03\n",
      "   --------------------- ----------------- 131.2/241.3 MB 46.9 MB/s eta 0:00:03\n",
      "   --------------------- ----------------- 131.2/241.3 MB 46.9 MB/s eta 0:00:03\n",
      "   --------------------- ----------------- 131.2/241.3 MB 46.9 MB/s eta 0:00:03\n",
      "   --------------------- ----------------- 131.3/241.3 MB 29.7 MB/s eta 0:00:04\n",
      "   --------------------- ----------------- 131.3/241.3 MB 29.7 MB/s eta 0:00:04\n",
      "   ---------------------- ---------------- 139.7/241.3 MB 36.4 MB/s eta 0:00:03\n",
      "   ---------------------- ---------------- 140.3/241.3 MB 34.4 MB/s eta 0:00:03\n",
      "   ---------------------- ---------------- 141.6/241.3 MB 81.8 MB/s eta 0:00:02\n",
      "   ----------------------- --------------- 143.9/241.3 MB 59.5 MB/s eta 0:00:02\n",
      "   ----------------------- --------------- 145.9/241.3 MB 50.4 MB/s eta 0:00:02\n",
      "   ----------------------- --------------- 148.1/241.3 MB 40.9 MB/s eta 0:00:03\n",
      "   ------------------------ -------------- 150.0/241.3 MB 38.5 MB/s eta 0:00:03\n",
      "   ------------------------ -------------- 152.2/241.3 MB 46.7 MB/s eta 0:00:02\n",
      "   ------------------------ -------------- 154.2/241.3 MB 43.7 MB/s eta 0:00:02\n",
      "   ------------------------- ------------- 155.8/241.3 MB 43.7 MB/s eta 0:00:02\n",
      "   ------------------------- ------------- 157.6/241.3 MB 40.9 MB/s eta 0:00:03\n",
      "   ------------------------- ------------- 159.7/241.3 MB 40.9 MB/s eta 0:00:02\n",
      "   -------------------------- ------------ 162.2/241.3 MB 43.7 MB/s eta 0:00:02\n",
      "   -------------------------- ------------ 164.5/241.3 MB 43.5 MB/s eta 0:00:02\n",
      "   -------------------------- ------------ 166.9/241.3 MB 50.4 MB/s eta 0:00:02\n",
      "   --------------------------- ----------- 169.2/241.3 MB 50.1 MB/s eta 0:00:02\n",
      "   --------------------------- ----------- 171.6/241.3 MB 50.4 MB/s eta 0:00:02\n",
      "   ---------------------------- ---------- 174.1/241.3 MB 50.4 MB/s eta 0:00:02\n",
      "   ---------------------------- ---------- 175.1/241.3 MB 54.4 MB/s eta 0:00:02\n",
      "   ---------------------------- ---------- 175.4/241.3 MB 38.5 MB/s eta 0:00:02\n",
      "   ---------------------------- ---------- 177.5/241.3 MB 38.5 MB/s eta 0:00:02\n",
      "   ----------------------------- --------- 180.6/241.3 MB 40.9 MB/s eta 0:00:02\n",
      "   ----------------------------- --------- 182.6/241.3 MB 38.5 MB/s eta 0:00:02\n",
      "   ----------------------------- --------- 184.4/241.3 MB 36.3 MB/s eta 0:00:02\n",
      "   ------------------------------ -------- 185.9/241.3 MB 46.9 MB/s eta 0:00:02\n",
      "   ------------------------------ -------- 187.6/241.3 MB 43.7 MB/s eta 0:00:02\n",
      "   ------------------------------ -------- 189.4/241.3 MB 38.6 MB/s eta 0:00:02\n",
      "   ------------------------------ -------- 191.0/241.3 MB 36.4 MB/s eta 0:00:02\n",
      "   ------------------------------ -------- 191.0/241.3 MB 36.4 MB/s eta 0:00:02\n",
      "   ------------------------------- ------- 192.8/241.3 MB 32.8 MB/s eta 0:00:02\n",
      "   ------------------------------- ------- 195.5/241.3 MB 34.4 MB/s eta 0:00:02\n",
      "   ------------------------------- ------- 196.6/241.3 MB 32.7 MB/s eta 0:00:02\n",
      "   ------------------------------- ------- 197.9/241.3 MB 31.2 MB/s eta 0:00:02\n",
      "   -------------------------------- ------ 199.2/241.3 MB 29.8 MB/s eta 0:00:02\n",
      "   -------------------------------- ------ 200.4/241.3 MB 28.5 MB/s eta 0:00:02\n",
      "   -------------------------------- ------ 201.7/241.3 MB 32.8 MB/s eta 0:00:02\n",
      "   -------------------------------- ------ 202.9/241.3 MB 29.7 MB/s eta 0:00:02\n",
      "   -------------------------------- ------ 204.1/241.3 MB 29.7 MB/s eta 0:00:02\n",
      "   --------------------------------- ----- 205.4/241.3 MB 26.2 MB/s eta 0:00:02\n",
      "   --------------------------------- ----- 206.6/241.3 MB 26.2 MB/s eta 0:00:02\n",
      "   --------------------------------- ----- 207.9/241.3 MB 26.2 MB/s eta 0:00:02\n",
      "   --------------------------------- ----- 209.2/241.3 MB 27.3 MB/s eta 0:00:02\n",
      "   ---------------------------------- ---- 210.5/241.3 MB 27.3 MB/s eta 0:00:02\n",
      "   ---------------------------------- ---- 211.8/241.3 MB 27.3 MB/s eta 0:00:02\n",
      "   ---------------------------------- ---- 213.1/241.3 MB 27.3 MB/s eta 0:00:02\n",
      "   ---------------------------------- ---- 214.2/241.3 MB 27.3 MB/s eta 0:00:01\n",
      "   ---------------------------------- ---- 215.6/241.3 MB 27.3 MB/s eta 0:00:01\n",
      "   ----------------------------------- --- 216.9/241.3 MB 27.3 MB/s eta 0:00:01\n",
      "   ----------------------------------- --- 218.2/241.3 MB 27.3 MB/s eta 0:00:01\n",
      "   ----------------------------------- --- 219.5/241.3 MB 27.3 MB/s eta 0:00:01\n",
      "   ----------------------------------- --- 220.8/241.3 MB 27.3 MB/s eta 0:00:01\n",
      "   ----------------------------------- --- 222.1/241.3 MB 27.3 MB/s eta 0:00:01\n",
      "   ------------------------------------ -- 223.3/241.3 MB 27.3 MB/s eta 0:00:01\n",
      "   ------------------------------------ -- 224.7/241.3 MB 28.4 MB/s eta 0:00:01\n",
      "   ------------------------------------ -- 226.0/241.3 MB 27.3 MB/s eta 0:00:01\n",
      "   ------------------------------------ -- 227.3/241.3 MB 27.3 MB/s eta 0:00:01\n",
      "   ------------------------------------ -- 228.5/241.3 MB 27.3 MB/s eta 0:00:01\n",
      "   ------------------------------------- - 229.9/241.3 MB 27.3 MB/s eta 0:00:01\n",
      "   ------------------------------------- - 231.3/241.3 MB 27.3 MB/s eta 0:00:01\n",
      "   ------------------------------------- - 232.6/241.3 MB 28.5 MB/s eta 0:00:01\n",
      "   ------------------------------------- - 233.9/241.3 MB 27.3 MB/s eta 0:00:01\n",
      "   --------------------------------------  235.3/241.3 MB 28.4 MB/s eta 0:00:01\n",
      "   --------------------------------------  236.6/241.3 MB 28.4 MB/s eta 0:00:01\n",
      "   --------------------------------------  238.0/241.3 MB 28.4 MB/s eta 0:00:01\n",
      "   --------------------------------------  239.4/241.3 MB 28.5 MB/s eta 0:00:01\n",
      "   --------------------------------------  240.8/241.3 MB 28.5 MB/s eta 0:00:01\n",
      "   --------------------------------------  241.3/241.3 MB 27.3 MB/s eta 0:00:01\n",
      "   --------------------------------------  241.3/241.3 MB 27.3 MB/s eta 0:00:01\n",
      "   --------------------------------------  241.3/241.3 MB 27.3 MB/s eta 0:00:01\n",
      "   --------------------------------------  241.3/241.3 MB 27.3 MB/s eta 0:00:01\n",
      "   --------------------------------------  241.3/241.3 MB 27.3 MB/s eta 0:00:01\n",
      "   --------------------------------------  241.3/241.3 MB 27.3 MB/s eta 0:00:01\n",
      "   --------------------------------------  241.3/241.3 MB 27.3 MB/s eta 0:00:01\n",
      "   --------------------------------------- 241.3/241.3 MB 15.2 MB/s eta 0:00:00\n",
      "Using cached sympy-1.14.0-py3-none-any.whl (6.3 MB)\n",
      "Using cached networkx-3.5-py3-none-any.whl (2.0 MB)\n",
      "Using cached mpmath-1.3.0-py3-none-any.whl (536 kB)\n",
      "Installing collected packages: mpmath, sympy, networkx, torch, accelerate\n",
      "Successfully installed accelerate-1.10.1 mpmath-1.3.0 networkx-3.5 sympy-1.14.0 torch-2.8.0\n",
      "Note: you may need to restart the kernel to use updated packages.\n"
     ]
    }
   ],
   "source": [
    "%pip install --upgrade accelerate"
   ]
  },
  {
   "cell_type": "code",
   "execution_count": 11,
   "id": "af8232c1",
   "metadata": {},
   "outputs": [
    {
     "data": {
      "text/plain": [
       "'1.10.1'"
      ]
     },
     "execution_count": 11,
     "metadata": {},
     "output_type": "execute_result"
    }
   ],
   "source": [
    "import accelerate\n",
    "accelerate.__version__"
   ]
  },
  {
   "cell_type": "markdown",
   "id": "ec2c07d2",
   "metadata": {},
   "source": [
    "1. Loading the Data"
   ]
  },
  {
   "cell_type": "code",
   "execution_count": null,
   "id": "3e6becc7",
   "metadata": {},
   "outputs": [],
   "source": [
    "import pandas as pd\n",
    "import numpy as np \n",
    "\n",
    "df_resume = pd.read_csv()"
   ]
  },
  {
   "cell_type": "code",
   "execution_count": null,
   "id": "b2873c5d",
   "metadata": {},
   "outputs": [],
   "source": [
    "df_resume.Category.unique()"
   ]
  },
  {
   "cell_type": "markdown",
   "id": "3d202e00",
   "metadata": {},
   "source": [
    "2. Load Skill Data"
   ]
  },
  {
   "cell_type": "code",
   "execution_count": null,
   "id": "b7190ea2",
   "metadata": {},
   "outputs": [],
   "source": [
    "import spacy\n",
    "\n",
    "nlp = spacy.load('en_core_web_md')\n",
    "skill_path = 'data/skills/jsonl'"
   ]
  },
  {
   "cell_type": "code",
   "execution_count": null,
   "id": "c40536a1",
   "metadata": {},
   "outputs": [],
   "source": [
    "ruler = nlp.add_pipe(\"entity_ruler\")\n",
    "ruler.from_disk(skill_path)\n",
    "nlp.pipe_names"
   ]
  },
  {
   "cell_type": "code",
   "execution_count": null,
   "id": "3865d2f0",
   "metadata": {},
   "outputs": [],
   "source": [
    "doc = nlp(\"Chaky loves deep learning.\")\n",
    "doc.ents\n",
    "//this can help you adrian to extract the required fields like the skills."
   ]
  },
  {
   "cell_type": "markdown",
   "id": "7ac32819",
   "metadata": {},
   "source": [
    "Trying to extract skills from resume.csv"
   ]
  },
  {
   "cell_type": "code",
   "execution_count": null,
   "id": "585f0df5",
   "metadata": {},
   "outputs": [],
   "source": [
    "df_resume.head()\n",
    "#clean your data"
   ]
  },
  {
   "cell_type": "code",
   "execution_count": null,
   "id": "ae66518a",
   "metadata": {},
   "outputs": [],
   "source": [
    "from spacy.lang.en.stop_words import STOP_WORDS\n",
    "\n",
    "def preprocessing(sentece):\n",
    "    stopwords = list (STOP_WORDS)\n",
    "    doc = nlp(sentnce)\n",
    "    clean_tokens = []\n",
    "\n",
    "    for token in oc:\n",
    "        if token.text not in stopwords and token.pos_ != 'PUNCT' and token.pos_ != 'SYM' and \\\n",
    "            token.pos_ != 'SPACE':\n",
    "                clean_tokens.append(token.lemma_.lower().strip())\n",
    "\n",
    "    return \" \".join(clean_tokens)            \n",
    "\n"
   ]
  },
  {
   "cell_type": "code",
   "execution_count": null,
   "id": "b98ea458",
   "metadata": {},
   "outputs": [],
   "source": [
    "random_resume = df_resume.Resume_str.iloc[5]\n",
    "random_resume[:200]"
   ]
  },
  {
   "cell_type": "code",
   "execution_count": null,
   "id": "71ecd105",
   "metadata": {},
   "outputs": [],
   "source": [
    "preprocessing(random_resume[:300])"
   ]
  },
  {
   "cell_type": "code",
   "execution_count": null,
   "id": "1ad64af0",
   "metadata": {},
   "outputs": [],
   "source": [
    "for i, row in df_resume.iterrows():\n",
    "    clean_text = preprocessing(row.Resume_str)\n",
    "    df_resume.at[i,'Clean_resume'] = clean_text"
   ]
  },
  {
   "cell_type": "code",
   "execution_count": null,
   "id": "86445e0d",
   "metadata": {},
   "outputs": [],
   "source": [
    "#check the new resume list\n",
    "df_resume.head() "
   ]
  },
  {
   "cell_type": "markdown",
   "id": "50f78681",
   "metadata": {},
   "source": [
    "4. Extraction of Skills"
   ]
  },
  {
   "cell_type": "code",
   "execution_count": null,
   "id": "5516c3f1",
   "metadata": {},
   "outputs": [],
   "source": [
    "def get_skills(text):\n",
    "\n",
    "    doc = nlp(text)\n",
    "\n",
    "    skills = []\n",
    "\n",
    "    for ent in doc.ents:\n",
    "        if ent.label == 'SKILL':\n",
    "            sksills.append(ent.text)\n",
    "\n",
    "    return skills\n",
    "\n",
    "def unique_skills(x):\n",
    "    return list(set(x))"
   ]
  },
  {
   "cell_type": "code",
   "execution_count": null,
   "id": "45d574e7",
   "metadata": {},
   "outputs": [],
   "source": [
    "df_resume['Skills'] = df_resume.Clean_resume.apply(get_skills)\n",
    "df_resume['Skills'] = df_resume.Skills.apply(unique_skills)"
   ]
  },
  {
   "cell_type": "code",
   "execution_count": null,
   "id": "d16fefce",
   "metadata": {},
   "outputs": [],
   "source": [
    "df_resume.Skills.iloc[0]"
   ]
  },
  {
   "cell_type": "markdown",
   "id": "673c23aa",
   "metadata": {},
   "source": [
    "5. Visualization"
   ]
  },
  {
   "cell_type": "code",
   "execution_count": null,
   "id": "e591e110",
   "metadata": {},
   "outputs": [],
   "source": [
    "#set(df_resume.Category)"
   ]
  },
  {
   "cell_type": "code",
   "execution_count": null,
   "id": "0e9bae4d",
   "metadata": {},
   "outputs": [],
   "source": [
    "category = '' \n",
    "cond = df_reseme.Categor == category\n",
    "\n",
    "df_resume_it = df_resume[cond]\n",
    "df_resume_it.shape"
   ]
  },
  {
   "cell_type": "code",
   "execution_count": null,
   "id": "4f195154",
   "metadata": {},
   "outputs": [],
   "source": [
    "all_skills = np.concatenate(df_resume_it.Skills.values)"
   ]
  },
  {
   "cell_type": "code",
   "execution_count": null,
   "id": "a0a2ba93",
   "metadata": {},
   "outputs": [],
   "source": [
    "from collections import Counter, OrderedDict\n",
    "\n",
    "counting = Counter(all_skills)\n",
    "counting = OderedDict(counting.most_common(10))\n",
    "\n",
    "counting"
   ]
  },
  {
   "cell_type": "code",
   "execution_count": null,
   "id": "6549a73c",
   "metadata": {},
   "outputs": [],
   "source": [
    "import matplotlib.pyplot as plt \n",
    "\n",
    "plt.figuree(figsize=(15,3))\n",
    "plt.xticks(rotation=45)\n",
    "\n",
    "plt.bar(counting.keys(), counting.values())"
   ]
  },
  {
   "cell_type": "markdown",
   "id": "9caa0e3a",
   "metadata": {},
   "source": [
    "6. Named Eentity Recognition"
   ]
  },
  {
   "cell_type": "code",
   "execution_count": null,
   "id": "cb620bd4",
   "metadata": {},
   "outputs": [],
   "source": [
    "form spacy improt displacy\n",
    "\n",
    "text = df_resume_it.Clean_reesume.iloc[32]"
   ]
  },
  {
   "cell_type": "code",
   "execution_count": null,
   "id": "36942ddd",
   "metadata": {},
   "outputs": [],
   "source": [
    "doc = nlp(text)"
   ]
  },
  {
   "cell_type": "code",
   "execution_count": null,
   "id": "ca01751c",
   "metadata": {},
   "outputs": [],
   "source": [
    "dispalcy.render(doc, style='ent')"
   ]
  },
  {
   "cell_type": "markdown",
   "id": "1bd24648",
   "metadata": {},
   "source": [
    "7. Loading the PDF"
   ]
  },
  {
   "cell_type": "code",
   "execution_count": null,
   "id": "e9dbbe64",
   "metadata": {},
   "outputs": [],
   "source": [
    "from PyPDF2 import PdfReader\n",
    "\n",
    "reader = PdfReader(\"data/(resume path)\")\n",
    "page = reader.pages[0]\n",
    "text = page.extract_text()"
   ]
  },
  {
   "cell_type": "code",
   "execution_count": null,
   "id": "706c6cca",
   "metadata": {},
   "outputs": [],
   "source": [
    "text = preprocessing(text)"
   ]
  },
  {
   "cell_type": "code",
   "execution_count": null,
   "id": "2b47ff98",
   "metadata": {},
   "outputs": [],
   "source": [
    "doc = nlp(text)"
   ]
  }
 ],
 "metadata": {
  "kernelspec": {
   "display_name": "myenv",
   "language": "python",
   "name": "python3"
  },
  "language_info": {
   "codemirror_mode": {
    "name": "ipython",
    "version": 3
   },
   "file_extension": ".py",
   "mimetype": "text/x-python",
   "name": "python",
   "nbconvert_exporter": "python",
   "pygments_lexer": "ipython3",
   "version": "3.12.4"
  }
 },
 "nbformat": 4,
 "nbformat_minor": 5
}
